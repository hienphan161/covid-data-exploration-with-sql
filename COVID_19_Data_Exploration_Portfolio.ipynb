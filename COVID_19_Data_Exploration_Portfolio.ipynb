{
  "nbformat": 4,
  "nbformat_minor": 0,
  "metadata": {
    "colab": {
      "provenance": [],
      "toc_visible": true
    },
    "kernelspec": {
      "name": "python3",
      "display_name": "Python 3"
    },
    "language_info": {
      "name": "python"
    }
  },
  "cells": [
    {
      "cell_type": "markdown",
      "source": [
        "# COVID-19 Data Exploration Portfolio\n",
        "\n",
        "<div>\n",
        "<img src=https://thanhtra.com.vn/data/images/0/2021/12/05/congdinh/blue-covid-banner.jpg width=\"1500\">\n",
        "</div>"
      ],
      "metadata": {
        "id": "oYxgzypq6uWN"
      }
    },
    {
      "cell_type": "markdown",
      "source": [
        "# Introduction"
      ],
      "metadata": {
        "id": "QCEjtiGb62_c"
      }
    },
    {
      "cell_type": "markdown",
      "source": [
        "In this project, we delve into the extensive dataset of COVID-19, utilizing a range of SQL skills to extract meaningful insights. The dataset encompasses vital statistics on COVID-19 cases, deaths, population demographics, and vaccination progress across various locations and continents."
      ],
      "metadata": {
        "id": "9Amy6xQ1UWm8"
      }
    },
    {
      "cell_type": "markdown",
      "source": [
        "## Skills Utilized\n",
        "\n",
        "- **Joins:** Connecting data from multiple sources for comprehensive analysis.\n",
        "\n",
        "- **Common Table Expressions (CTE's):** Simplifying complex queries and calculations.\n",
        "\n",
        "- **Temporary Tables:** Storing interim results for efficient data manipulation.\n",
        "\n",
        "- **Window Functions:** Performing computations over specified subsets of data.\n",
        "\n",
        "- **Aggregate Functions:** Summarizing data to reveal trends and patterns.\n",
        "\n",
        "- **Creating Views:** Organizing data for future reference and visualization.\n",
        "\n",
        "- **Converting Data Types:** Ensuring data compatibility and accuracy."
      ],
      "metadata": {
        "id": "ONyCzQkjVaQM"
      }
    },
    {
      "cell_type": "markdown",
      "source": [
        "## Project Highlights\n",
        "1. **Initial Data Exploration:**\n",
        "\n",
        "- A look at the core dataset focusing on COVID-19 cases and population statistics.\n",
        "\n",
        "- Understanding the progression of total cases, deaths, and infection rates.\n",
        "\n",
        "2. **Country-specific Analysis:**\n",
        "\n",
        "- Examining the likelihood of death if infected and the percentage of population infected.\n",
        "\n",
        "- Identifying countries with the highest infection rates and death counts.\n",
        "\n",
        "3. **Continental Breakdown:**\n",
        "\n",
        "- Analyzing continents with the highest death counts per population.\n",
        "\n",
        "- Understanding the global impact on different regions.\n",
        "\n",
        "4. **Vaccination Progress:**\n",
        "\n",
        "- Tracking the percentage of the population vaccinated.\n",
        "\n",
        "- Utilizing various methods like CTEs and temporary tables for calculations.\n",
        "\n",
        "5. **Data Storage and Future Use:**\n",
        "\n",
        "- Creating a view for easy access to vaccination and demographic data.\n",
        "\n",
        "- Setting the stage for insightful visualizations and further analysis.\n"
      ],
      "metadata": {
        "id": "y4ukhCzeVdeb"
      }
    },
    {
      "cell_type": "markdown",
      "source": [
        "This project not only showcases SQL proficiency but also aims to uncover trends, disparities, and progress in the fight against COVID-19. Join us on this data-driven journey as we unravel the story behind the numbers."
      ],
      "metadata": {
        "id": "Ryd6T-shVgaL"
      }
    },
    {
      "cell_type": "markdown",
      "source": [
        "# Overview of the dataset\n",
        "\n",
        "In this project, we focus on analyzing specific aspects of the extensive [COVID-19 dataset](https://ourworldindata.org/covid-deaths) provided by Our World in Data. This dataset is diligently maintained by Our World in Data, with daily updates to ensure it reflects the latest information relevant to the COVID-19 pandemic. It encompasses a diverse range of crucial metrics sourced from reputable institutions, guaranteeing accuracy and reliability.\n",
        "\n",
        "Our analysis hones in on the following key variables:\n",
        "\n",
        "- **Confirmed Cases:** Total and new confirmed cases, smoothed averages, and cases per million people.\n",
        "- **Confirmed Deaths:** Total and new deaths attributed to COVID-19, smoothed averages, and deaths per million people.\n",
        "- **Vaccinations:** Total doses administered, people vaccinated, fully vaccinated, and booster doses.\n",
        "\n",
        "The dataset we're using contains 390,786 rows spanning from January 1, 2020, to April 18, 2024. It is divided into two CSV files for easier analysis:\n",
        "\n",
        "- CovidDeaths.csv: Contains the data on confirmed cases and deaths.\n",
        "- CovidVaccinations.csv: Contains the data on vaccinations.\n",
        "\n",
        "For further insights, you can explore the complete dataset [here](https://github.com/owid/covid-19-data/tree/master/public/data)."
      ],
      "metadata": {
        "id": "X9nZC-0i6-Ig"
      }
    },
    {
      "cell_type": "markdown",
      "source": [
        "# Connect to the database"
      ],
      "metadata": {
        "id": "4wsDYtna7M18"
      }
    },
    {
      "cell_type": "markdown",
      "source": [
        "We will use the SQLite database in this project to easily work with SQL on Google Colab."
      ],
      "metadata": {
        "id": "05fzmcVslcGn"
      }
    },
    {
      "cell_type": "code",
      "source": [
        "import sqlite3\n",
        "\n",
        "# Connect to an SQLite database\n",
        "conn = sqlite3.connect('covid_data.db')"
      ],
      "metadata": {
        "id": "xoZOmq4e7Q6R"
      },
      "execution_count": 46,
      "outputs": []
    },
    {
      "cell_type": "code",
      "source": [
        "%%capture\n",
        "# Install ipython-sql\n",
        "!pip install ipython-sql"
      ],
      "metadata": {
        "id": "N5nflbw-7XUl"
      },
      "execution_count": 47,
      "outputs": []
    },
    {
      "cell_type": "code",
      "source": [
        "# Load the SQL extension\n",
        "%load_ext sql\n",
        "\n",
        "# Create a SQLite database\n",
        "%sql sqlite:///covid_data.db"
      ],
      "metadata": {
        "id": "DIltgWBP7Yd1",
        "colab": {
          "base_uri": "https://localhost:8080/"
        },
        "outputId": "66f5e2ae-e650-4f8b-a595-f61c401b109f"
      },
      "execution_count": 48,
      "outputs": [
        {
          "output_type": "stream",
          "name": "stdout",
          "text": [
            "The sql extension is already loaded. To reload it, use:\n",
            "  %reload_ext sql\n"
          ]
        }
      ]
    },
    {
      "cell_type": "markdown",
      "source": [
        "# Load the dataset"
      ],
      "metadata": {
        "id": "SnQNsJ4L7kN9"
      }
    },
    {
      "cell_type": "markdown",
      "source": [
        "We will import the dataset from CSV files into the SQLite database we've created."
      ],
      "metadata": {
        "id": "vgHiuFpolPQY"
      }
    },
    {
      "cell_type": "code",
      "source": [
        "from google.colab import drive\n",
        "\n",
        "drive.mount('/content/drive')"
      ],
      "metadata": {
        "colab": {
          "base_uri": "https://localhost:8080/"
        },
        "id": "nraxkbD_8KkP",
        "outputId": "6c621838-0ad1-4864-8587-3bc4be592bb4"
      },
      "execution_count": 49,
      "outputs": [
        {
          "output_type": "stream",
          "name": "stdout",
          "text": [
            "Drive already mounted at /content/drive; to attempt to forcibly remount, call drive.mount(\"/content/drive\", force_remount=True).\n"
          ]
        }
      ]
    },
    {
      "cell_type": "code",
      "source": [
        "import pandas as pd\n",
        "\n",
        "df = pd.read_csv(\"/content/drive/MyDrive/Datasets/CovidDeaths.csv\")\n",
        "# df['date'] = pd.to_datetime(df['date'], format='%m/%d/%Y').dt.date\n",
        "\n",
        "df.to_sql(\"COVID_DEATHS\", conn, if_exists=\"append\", chunksize=100, index=False, method=\"multi\")"
      ],
      "metadata": {
        "colab": {
          "base_uri": "https://localhost:8080/"
        },
        "id": "PtdkpdV87ZiO",
        "outputId": "b873329f-419d-4ac0-c25c-9e7723b0988b"
      },
      "execution_count": 50,
      "outputs": [
        {
          "output_type": "execute_result",
          "data": {
            "text/plain": [
              "390786"
            ]
          },
          "metadata": {},
          "execution_count": 50
        }
      ]
    },
    {
      "cell_type": "code",
      "source": [
        "df = pd.read_csv(\"/content/drive/MyDrive/Datasets/CovidVaccinations.csv\")\n",
        "# df['date'] = pd.to_datetime(df['date'], format='%m/%d/%Y').dt.date\n",
        "\n",
        "df.to_sql(\"COVID_VACCINATIONS\", conn, if_exists=\"append\", chunksize=100, index=False, method=\"multi\")"
      ],
      "metadata": {
        "colab": {
          "base_uri": "https://localhost:8080/"
        },
        "id": "gS-IAKwz9GRD",
        "outputId": "86708eb5-ee16-47fb-8549-bc848eca40ab"
      },
      "execution_count": 51,
      "outputs": [
        {
          "output_type": "execute_result",
          "data": {
            "text/plain": [
              "390786"
            ]
          },
          "metadata": {},
          "execution_count": 51
        }
      ]
    },
    {
      "cell_type": "markdown",
      "source": [
        "# Data exploration"
      ],
      "metadata": {
        "id": "qvOipMuE-w2V"
      }
    },
    {
      "cell_type": "markdown",
      "source": [
        "## COVID cases and deaths"
      ],
      "metadata": {
        "id": "gYdhj9t0euVR"
      }
    },
    {
      "cell_type": "markdown",
      "source": [
        "Let's start with the `COVID_DEATHS` dataset, which contains the data on confirmed cases and deaths."
      ],
      "metadata": {
        "id": "mlXfq4-6pqBP"
      }
    },
    {
      "cell_type": "code",
      "source": [
        "%%sql\n",
        "SELECT continent, location, date, population, total_cases, new_cases, total_deaths, new_deaths\n",
        "FROM COVID_DEATHS\n",
        "ORDER BY location, date\n",
        "LIMIT 10"
      ],
      "metadata": {
        "colab": {
          "base_uri": "https://localhost:8080/",
          "height": 289
        },
        "id": "T5_1xwK1-a3Y",
        "outputId": "19608f56-e797-415d-8eb9-936551353c4e"
      },
      "execution_count": 52,
      "outputs": [
        {
          "output_type": "stream",
          "name": "stdout",
          "text": [
            " * sqlite:///covid_data.db\n",
            "Done.\n"
          ]
        },
        {
          "output_type": "execute_result",
          "data": {
            "text/plain": [
              "[('Asia', 'Afghanistan', '1/1/2021', 41128772, 51848.0, 0.0, 2158.0, 0.0),\n",
              " ('Asia', 'Afghanistan', '1/1/2021', 41128772, 51848.0, 0.0, 2158.0, 0.0),\n",
              " ('Asia', 'Afghanistan', '1/1/2022', 41128772, 157902.0, 0.0, 7352.0, 0.0),\n",
              " ('Asia', 'Afghanistan', '1/1/2022', 41128772, 157902.0, 0.0, 7352.0, 0.0),\n",
              " ('Asia', 'Afghanistan', '1/1/2023', 41128772, 207579.0, 257.0, 7849.0, 4.0),\n",
              " ('Asia', 'Afghanistan', '1/1/2023', 41128772, 207579.0, 257.0, 7849.0, 4.0),\n",
              " ('Asia', 'Afghanistan', '1/1/2024', 41128772, 230375.0, 0.0, 7973.0, 0.0),\n",
              " ('Asia', 'Afghanistan', '1/1/2024', 41128772, 230375.0, 0.0, 7973.0, 0.0),\n",
              " ('Asia', 'Afghanistan', '1/10/2020', 41128772, None, 0.0, None, 0.0),\n",
              " ('Asia', 'Afghanistan', '1/10/2020', 41128772, None, 0.0, None, 0.0)]"
            ],
            "text/html": [
              "<table>\n",
              "    <thead>\n",
              "        <tr>\n",
              "            <th>continent</th>\n",
              "            <th>location</th>\n",
              "            <th>date</th>\n",
              "            <th>population</th>\n",
              "            <th>total_cases</th>\n",
              "            <th>new_cases</th>\n",
              "            <th>total_deaths</th>\n",
              "            <th>new_deaths</th>\n",
              "        </tr>\n",
              "    </thead>\n",
              "    <tbody>\n",
              "        <tr>\n",
              "            <td>Asia</td>\n",
              "            <td>Afghanistan</td>\n",
              "            <td>1/1/2021</td>\n",
              "            <td>41128772</td>\n",
              "            <td>51848.0</td>\n",
              "            <td>0.0</td>\n",
              "            <td>2158.0</td>\n",
              "            <td>0.0</td>\n",
              "        </tr>\n",
              "        <tr>\n",
              "            <td>Asia</td>\n",
              "            <td>Afghanistan</td>\n",
              "            <td>1/1/2021</td>\n",
              "            <td>41128772</td>\n",
              "            <td>51848.0</td>\n",
              "            <td>0.0</td>\n",
              "            <td>2158.0</td>\n",
              "            <td>0.0</td>\n",
              "        </tr>\n",
              "        <tr>\n",
              "            <td>Asia</td>\n",
              "            <td>Afghanistan</td>\n",
              "            <td>1/1/2022</td>\n",
              "            <td>41128772</td>\n",
              "            <td>157902.0</td>\n",
              "            <td>0.0</td>\n",
              "            <td>7352.0</td>\n",
              "            <td>0.0</td>\n",
              "        </tr>\n",
              "        <tr>\n",
              "            <td>Asia</td>\n",
              "            <td>Afghanistan</td>\n",
              "            <td>1/1/2022</td>\n",
              "            <td>41128772</td>\n",
              "            <td>157902.0</td>\n",
              "            <td>0.0</td>\n",
              "            <td>7352.0</td>\n",
              "            <td>0.0</td>\n",
              "        </tr>\n",
              "        <tr>\n",
              "            <td>Asia</td>\n",
              "            <td>Afghanistan</td>\n",
              "            <td>1/1/2023</td>\n",
              "            <td>41128772</td>\n",
              "            <td>207579.0</td>\n",
              "            <td>257.0</td>\n",
              "            <td>7849.0</td>\n",
              "            <td>4.0</td>\n",
              "        </tr>\n",
              "        <tr>\n",
              "            <td>Asia</td>\n",
              "            <td>Afghanistan</td>\n",
              "            <td>1/1/2023</td>\n",
              "            <td>41128772</td>\n",
              "            <td>207579.0</td>\n",
              "            <td>257.0</td>\n",
              "            <td>7849.0</td>\n",
              "            <td>4.0</td>\n",
              "        </tr>\n",
              "        <tr>\n",
              "            <td>Asia</td>\n",
              "            <td>Afghanistan</td>\n",
              "            <td>1/1/2024</td>\n",
              "            <td>41128772</td>\n",
              "            <td>230375.0</td>\n",
              "            <td>0.0</td>\n",
              "            <td>7973.0</td>\n",
              "            <td>0.0</td>\n",
              "        </tr>\n",
              "        <tr>\n",
              "            <td>Asia</td>\n",
              "            <td>Afghanistan</td>\n",
              "            <td>1/1/2024</td>\n",
              "            <td>41128772</td>\n",
              "            <td>230375.0</td>\n",
              "            <td>0.0</td>\n",
              "            <td>7973.0</td>\n",
              "            <td>0.0</td>\n",
              "        </tr>\n",
              "        <tr>\n",
              "            <td>Asia</td>\n",
              "            <td>Afghanistan</td>\n",
              "            <td>1/10/2020</td>\n",
              "            <td>41128772</td>\n",
              "            <td>None</td>\n",
              "            <td>0.0</td>\n",
              "            <td>None</td>\n",
              "            <td>0.0</td>\n",
              "        </tr>\n",
              "        <tr>\n",
              "            <td>Asia</td>\n",
              "            <td>Afghanistan</td>\n",
              "            <td>1/10/2020</td>\n",
              "            <td>41128772</td>\n",
              "            <td>None</td>\n",
              "            <td>0.0</td>\n",
              "            <td>None</td>\n",
              "            <td>0.0</td>\n",
              "        </tr>\n",
              "    </tbody>\n",
              "</table>"
            ]
          },
          "metadata": {},
          "execution_count": 52
        }
      ]
    },
    {
      "cell_type": "markdown",
      "source": [
        "We can observe that the dataset is updated weekly, with new cases and new deaths reported only on Sundays. Therefore, in this analysis, the dates of events (if mentioned) are only accurate in weeks.\n",
        "\n",
        "Additionally, there seems to be an issue with the date column as the ordering does not function correctly in the previous query. Let's examine the table schema to identify the problem."
      ],
      "metadata": {
        "id": "eKJoX5WK0BlG"
      }
    },
    {
      "cell_type": "code",
      "source": [
        "%%sql\n",
        "PRAGMA table_info(COVID_DEATHS)"
      ],
      "metadata": {
        "colab": {
          "base_uri": "https://localhost:8080/",
          "height": 630
        },
        "id": "2Isyjf7_ONUV",
        "outputId": "dbe3753e-502e-404b-a346-07cb9bcfa0be"
      },
      "execution_count": 53,
      "outputs": [
        {
          "output_type": "stream",
          "name": "stdout",
          "text": [
            " * sqlite:///covid_data.db\n",
            "Done.\n"
          ]
        },
        {
          "output_type": "execute_result",
          "data": {
            "text/plain": [
              "[(0, 'iso_code', 'TEXT', 0, None, 0),\n",
              " (1, 'continent', 'TEXT', 0, None, 0),\n",
              " (2, 'location', 'TEXT', 0, None, 0),\n",
              " (3, 'date', 'TEXT', 0, None, 0),\n",
              " (4, 'population', 'INTEGER', 0, None, 0),\n",
              " (5, 'total_cases', 'REAL', 0, None, 0),\n",
              " (6, 'new_cases', 'REAL', 0, None, 0),\n",
              " (7, 'new_cases_smoothed', 'REAL', 0, None, 0),\n",
              " (8, 'total_deaths', 'REAL', 0, None, 0),\n",
              " (9, 'new_deaths', 'REAL', 0, None, 0),\n",
              " (10, 'new_deaths_smoothed', 'REAL', 0, None, 0),\n",
              " (11, 'total_cases_per_million', 'REAL', 0, None, 0),\n",
              " (12, 'new_cases_per_million', 'REAL', 0, None, 0),\n",
              " (13, 'new_cases_smoothed_per_million', 'REAL', 0, None, 0),\n",
              " (14, 'total_deaths_per_million', 'REAL', 0, None, 0),\n",
              " (15, 'new_deaths_per_million', 'REAL', 0, None, 0),\n",
              " (16, 'new_deaths_smoothed_per_million', 'REAL', 0, None, 0),\n",
              " (17, 'reproduction_rate', 'REAL', 0, None, 0),\n",
              " (18, 'icu_patients', 'REAL', 0, None, 0),\n",
              " (19, 'icu_patients_per_million', 'REAL', 0, None, 0),\n",
              " (20, 'hosp_patients', 'REAL', 0, None, 0),\n",
              " (21, 'hosp_patients_per_million', 'REAL', 0, None, 0),\n",
              " (22, 'weekly_icu_admissions', 'REAL', 0, None, 0),\n",
              " (23, 'weekly_icu_admissions_per_million', 'REAL', 0, None, 0),\n",
              " (24, 'weekly_hosp_admissions', 'REAL', 0, None, 0),\n",
              " (25, 'weekly_hosp_admissions_per_million', 'REAL', 0, None, 0)]"
            ],
            "text/html": [
              "<table>\n",
              "    <thead>\n",
              "        <tr>\n",
              "            <th>cid</th>\n",
              "            <th>name</th>\n",
              "            <th>type</th>\n",
              "            <th>notnull</th>\n",
              "            <th>dflt_value</th>\n",
              "            <th>pk</th>\n",
              "        </tr>\n",
              "    </thead>\n",
              "    <tbody>\n",
              "        <tr>\n",
              "            <td>0</td>\n",
              "            <td>iso_code</td>\n",
              "            <td>TEXT</td>\n",
              "            <td>0</td>\n",
              "            <td>None</td>\n",
              "            <td>0</td>\n",
              "        </tr>\n",
              "        <tr>\n",
              "            <td>1</td>\n",
              "            <td>continent</td>\n",
              "            <td>TEXT</td>\n",
              "            <td>0</td>\n",
              "            <td>None</td>\n",
              "            <td>0</td>\n",
              "        </tr>\n",
              "        <tr>\n",
              "            <td>2</td>\n",
              "            <td>location</td>\n",
              "            <td>TEXT</td>\n",
              "            <td>0</td>\n",
              "            <td>None</td>\n",
              "            <td>0</td>\n",
              "        </tr>\n",
              "        <tr>\n",
              "            <td>3</td>\n",
              "            <td>date</td>\n",
              "            <td>TEXT</td>\n",
              "            <td>0</td>\n",
              "            <td>None</td>\n",
              "            <td>0</td>\n",
              "        </tr>\n",
              "        <tr>\n",
              "            <td>4</td>\n",
              "            <td>population</td>\n",
              "            <td>INTEGER</td>\n",
              "            <td>0</td>\n",
              "            <td>None</td>\n",
              "            <td>0</td>\n",
              "        </tr>\n",
              "        <tr>\n",
              "            <td>5</td>\n",
              "            <td>total_cases</td>\n",
              "            <td>REAL</td>\n",
              "            <td>0</td>\n",
              "            <td>None</td>\n",
              "            <td>0</td>\n",
              "        </tr>\n",
              "        <tr>\n",
              "            <td>6</td>\n",
              "            <td>new_cases</td>\n",
              "            <td>REAL</td>\n",
              "            <td>0</td>\n",
              "            <td>None</td>\n",
              "            <td>0</td>\n",
              "        </tr>\n",
              "        <tr>\n",
              "            <td>7</td>\n",
              "            <td>new_cases_smoothed</td>\n",
              "            <td>REAL</td>\n",
              "            <td>0</td>\n",
              "            <td>None</td>\n",
              "            <td>0</td>\n",
              "        </tr>\n",
              "        <tr>\n",
              "            <td>8</td>\n",
              "            <td>total_deaths</td>\n",
              "            <td>REAL</td>\n",
              "            <td>0</td>\n",
              "            <td>None</td>\n",
              "            <td>0</td>\n",
              "        </tr>\n",
              "        <tr>\n",
              "            <td>9</td>\n",
              "            <td>new_deaths</td>\n",
              "            <td>REAL</td>\n",
              "            <td>0</td>\n",
              "            <td>None</td>\n",
              "            <td>0</td>\n",
              "        </tr>\n",
              "        <tr>\n",
              "            <td>10</td>\n",
              "            <td>new_deaths_smoothed</td>\n",
              "            <td>REAL</td>\n",
              "            <td>0</td>\n",
              "            <td>None</td>\n",
              "            <td>0</td>\n",
              "        </tr>\n",
              "        <tr>\n",
              "            <td>11</td>\n",
              "            <td>total_cases_per_million</td>\n",
              "            <td>REAL</td>\n",
              "            <td>0</td>\n",
              "            <td>None</td>\n",
              "            <td>0</td>\n",
              "        </tr>\n",
              "        <tr>\n",
              "            <td>12</td>\n",
              "            <td>new_cases_per_million</td>\n",
              "            <td>REAL</td>\n",
              "            <td>0</td>\n",
              "            <td>None</td>\n",
              "            <td>0</td>\n",
              "        </tr>\n",
              "        <tr>\n",
              "            <td>13</td>\n",
              "            <td>new_cases_smoothed_per_million</td>\n",
              "            <td>REAL</td>\n",
              "            <td>0</td>\n",
              "            <td>None</td>\n",
              "            <td>0</td>\n",
              "        </tr>\n",
              "        <tr>\n",
              "            <td>14</td>\n",
              "            <td>total_deaths_per_million</td>\n",
              "            <td>REAL</td>\n",
              "            <td>0</td>\n",
              "            <td>None</td>\n",
              "            <td>0</td>\n",
              "        </tr>\n",
              "        <tr>\n",
              "            <td>15</td>\n",
              "            <td>new_deaths_per_million</td>\n",
              "            <td>REAL</td>\n",
              "            <td>0</td>\n",
              "            <td>None</td>\n",
              "            <td>0</td>\n",
              "        </tr>\n",
              "        <tr>\n",
              "            <td>16</td>\n",
              "            <td>new_deaths_smoothed_per_million</td>\n",
              "            <td>REAL</td>\n",
              "            <td>0</td>\n",
              "            <td>None</td>\n",
              "            <td>0</td>\n",
              "        </tr>\n",
              "        <tr>\n",
              "            <td>17</td>\n",
              "            <td>reproduction_rate</td>\n",
              "            <td>REAL</td>\n",
              "            <td>0</td>\n",
              "            <td>None</td>\n",
              "            <td>0</td>\n",
              "        </tr>\n",
              "        <tr>\n",
              "            <td>18</td>\n",
              "            <td>icu_patients</td>\n",
              "            <td>REAL</td>\n",
              "            <td>0</td>\n",
              "            <td>None</td>\n",
              "            <td>0</td>\n",
              "        </tr>\n",
              "        <tr>\n",
              "            <td>19</td>\n",
              "            <td>icu_patients_per_million</td>\n",
              "            <td>REAL</td>\n",
              "            <td>0</td>\n",
              "            <td>None</td>\n",
              "            <td>0</td>\n",
              "        </tr>\n",
              "        <tr>\n",
              "            <td>20</td>\n",
              "            <td>hosp_patients</td>\n",
              "            <td>REAL</td>\n",
              "            <td>0</td>\n",
              "            <td>None</td>\n",
              "            <td>0</td>\n",
              "        </tr>\n",
              "        <tr>\n",
              "            <td>21</td>\n",
              "            <td>hosp_patients_per_million</td>\n",
              "            <td>REAL</td>\n",
              "            <td>0</td>\n",
              "            <td>None</td>\n",
              "            <td>0</td>\n",
              "        </tr>\n",
              "        <tr>\n",
              "            <td>22</td>\n",
              "            <td>weekly_icu_admissions</td>\n",
              "            <td>REAL</td>\n",
              "            <td>0</td>\n",
              "            <td>None</td>\n",
              "            <td>0</td>\n",
              "        </tr>\n",
              "        <tr>\n",
              "            <td>23</td>\n",
              "            <td>weekly_icu_admissions_per_million</td>\n",
              "            <td>REAL</td>\n",
              "            <td>0</td>\n",
              "            <td>None</td>\n",
              "            <td>0</td>\n",
              "        </tr>\n",
              "        <tr>\n",
              "            <td>24</td>\n",
              "            <td>weekly_hosp_admissions</td>\n",
              "            <td>REAL</td>\n",
              "            <td>0</td>\n",
              "            <td>None</td>\n",
              "            <td>0</td>\n",
              "        </tr>\n",
              "        <tr>\n",
              "            <td>25</td>\n",
              "            <td>weekly_hosp_admissions_per_million</td>\n",
              "            <td>REAL</td>\n",
              "            <td>0</td>\n",
              "            <td>None</td>\n",
              "            <td>0</td>\n",
              "        </tr>\n",
              "    </tbody>\n",
              "</table>"
            ]
          },
          "metadata": {},
          "execution_count": 53
        }
      ]
    },
    {
      "cell_type": "markdown",
      "source": [
        "We see that the `date` column is now stored as a string, which is not the correct datatype for a date. To fix this, we will convert this column to a `DATE` datatype.\n",
        "\n",
        "Next, we'll save the processed `date` column along with the other columns we're interested in into a temporary table called `COVID_DEATHS_PROCESSED` for future analysis."
      ],
      "metadata": {
        "id": "rPQ9rL2vN3E1"
      }
    },
    {
      "cell_type": "code",
      "source": [
        "%%sql\n",
        "DROP TABLE IF EXISTS COVID_DEATHS_PROCESSED;\n",
        "\n",
        "CREATE TABLE COVID_DEATHS_PROCESSED\n",
        "(\n",
        "    continent TEXT,\n",
        "    location TEXT,\n",
        "    date DATE,\n",
        "    population REAL,\n",
        "    total_cases REAL,\n",
        "    new_cases REAL,\n",
        "    total_deaths REAL,\n",
        "    new_deaths REAL\n",
        ");\n",
        "\n",
        "INSERT INTO COVID_DEATHS_PROCESSED\n",
        "WITH date_split AS (\n",
        "    SELECT\n",
        "      continent,\n",
        "      location,\n",
        "      SUBSTR(date, 1, INSTR(date, '/') - 1) AS month,\n",
        "      SUBSTR(SUBSTR(date, INSTR(date, '/') + 1), 1, INSTR(SUBSTR(date, INSTR(date, '/') + 1), '/') - 1) AS date,\n",
        "      SUBSTR(SUBSTR(date, INSTR(date, '/') + 1), INSTR(SUBSTR(date, INSTR(date, '/') + 1), '/') + 1) AS year,\n",
        "      population,\n",
        "      total_cases,\n",
        "      new_cases,\n",
        "      total_deaths,\n",
        "      new_deaths\n",
        "    FROM COVID_DEATHS\n",
        "),\n",
        "date_normalize AS (\n",
        "    SELECT\n",
        "      continent,\n",
        "      location,\n",
        "      year,\n",
        "      CASE WHEN LENGTH(month) == 1 THEN '0' || month ELSE month END AS month,\n",
        "      CASE WHEN LENGTH(date) == 1 THEN '0' || date ELSE date END AS date,\n",
        "      population,\n",
        "      total_cases,\n",
        "      new_cases,\n",
        "      total_deaths,\n",
        "      new_deaths\n",
        "    FROM date_split\n",
        ")\n",
        "\n",
        "SELECT\n",
        "    continent,\n",
        "    location,\n",
        "    DATE(year || '-' || month || '-' || date) AS date,\n",
        "    population,\n",
        "    total_cases,\n",
        "    new_cases,\n",
        "    total_deaths,\n",
        "    new_deaths\n",
        "FROM date_normalize\n",
        "ORDER BY location, date"
      ],
      "metadata": {
        "colab": {
          "base_uri": "https://localhost:8080/"
        },
        "id": "q46RorJiMkdX",
        "outputId": "f43a74f1-008e-4abb-f1d8-6886621256f9"
      },
      "execution_count": 54,
      "outputs": [
        {
          "output_type": "stream",
          "name": "stdout",
          "text": [
            " * sqlite:///covid_data.db\n",
            "Done.\n",
            "Done.\n",
            "781572 rows affected.\n"
          ]
        },
        {
          "output_type": "execute_result",
          "data": {
            "text/plain": [
              "[]"
            ]
          },
          "metadata": {},
          "execution_count": 54
        }
      ]
    },
    {
      "cell_type": "markdown",
      "source": [
        "Let's take a look at our new table."
      ],
      "metadata": {
        "id": "FyY36pmekrqa"
      }
    },
    {
      "cell_type": "code",
      "source": [
        "%%sql\n",
        "SELECT *\n",
        "FROM COVID_DEATHS_PROCESSED\n",
        "LIMIT 10"
      ],
      "metadata": {
        "colab": {
          "base_uri": "https://localhost:8080/",
          "height": 289
        },
        "id": "dodJ8Wfjljfx",
        "outputId": "69d1c68f-2f37-44a0-f08d-07298052e7b1"
      },
      "execution_count": 55,
      "outputs": [
        {
          "output_type": "stream",
          "name": "stdout",
          "text": [
            " * sqlite:///covid_data.db\n",
            "Done.\n"
          ]
        },
        {
          "output_type": "execute_result",
          "data": {
            "text/plain": [
              "[('Asia', 'Afghanistan', '2020-01-05', 41128772.0, None, 0.0, None, 0.0),\n",
              " ('Asia', 'Afghanistan', '2020-01-05', 41128772.0, None, 0.0, None, 0.0),\n",
              " ('Asia', 'Afghanistan', '2020-01-06', 41128772.0, None, 0.0, None, 0.0),\n",
              " ('Asia', 'Afghanistan', '2020-01-06', 41128772.0, None, 0.0, None, 0.0),\n",
              " ('Asia', 'Afghanistan', '2020-01-07', 41128772.0, None, 0.0, None, 0.0),\n",
              " ('Asia', 'Afghanistan', '2020-01-07', 41128772.0, None, 0.0, None, 0.0),\n",
              " ('Asia', 'Afghanistan', '2020-01-08', 41128772.0, None, 0.0, None, 0.0),\n",
              " ('Asia', 'Afghanistan', '2020-01-08', 41128772.0, None, 0.0, None, 0.0),\n",
              " ('Asia', 'Afghanistan', '2020-01-09', 41128772.0, None, 0.0, None, 0.0),\n",
              " ('Asia', 'Afghanistan', '2020-01-09', 41128772.0, None, 0.0, None, 0.0)]"
            ],
            "text/html": [
              "<table>\n",
              "    <thead>\n",
              "        <tr>\n",
              "            <th>continent</th>\n",
              "            <th>location</th>\n",
              "            <th>date</th>\n",
              "            <th>population</th>\n",
              "            <th>total_cases</th>\n",
              "            <th>new_cases</th>\n",
              "            <th>total_deaths</th>\n",
              "            <th>new_deaths</th>\n",
              "        </tr>\n",
              "    </thead>\n",
              "    <tbody>\n",
              "        <tr>\n",
              "            <td>Asia</td>\n",
              "            <td>Afghanistan</td>\n",
              "            <td>2020-01-05</td>\n",
              "            <td>41128772.0</td>\n",
              "            <td>None</td>\n",
              "            <td>0.0</td>\n",
              "            <td>None</td>\n",
              "            <td>0.0</td>\n",
              "        </tr>\n",
              "        <tr>\n",
              "            <td>Asia</td>\n",
              "            <td>Afghanistan</td>\n",
              "            <td>2020-01-05</td>\n",
              "            <td>41128772.0</td>\n",
              "            <td>None</td>\n",
              "            <td>0.0</td>\n",
              "            <td>None</td>\n",
              "            <td>0.0</td>\n",
              "        </tr>\n",
              "        <tr>\n",
              "            <td>Asia</td>\n",
              "            <td>Afghanistan</td>\n",
              "            <td>2020-01-06</td>\n",
              "            <td>41128772.0</td>\n",
              "            <td>None</td>\n",
              "            <td>0.0</td>\n",
              "            <td>None</td>\n",
              "            <td>0.0</td>\n",
              "        </tr>\n",
              "        <tr>\n",
              "            <td>Asia</td>\n",
              "            <td>Afghanistan</td>\n",
              "            <td>2020-01-06</td>\n",
              "            <td>41128772.0</td>\n",
              "            <td>None</td>\n",
              "            <td>0.0</td>\n",
              "            <td>None</td>\n",
              "            <td>0.0</td>\n",
              "        </tr>\n",
              "        <tr>\n",
              "            <td>Asia</td>\n",
              "            <td>Afghanistan</td>\n",
              "            <td>2020-01-07</td>\n",
              "            <td>41128772.0</td>\n",
              "            <td>None</td>\n",
              "            <td>0.0</td>\n",
              "            <td>None</td>\n",
              "            <td>0.0</td>\n",
              "        </tr>\n",
              "        <tr>\n",
              "            <td>Asia</td>\n",
              "            <td>Afghanistan</td>\n",
              "            <td>2020-01-07</td>\n",
              "            <td>41128772.0</td>\n",
              "            <td>None</td>\n",
              "            <td>0.0</td>\n",
              "            <td>None</td>\n",
              "            <td>0.0</td>\n",
              "        </tr>\n",
              "        <tr>\n",
              "            <td>Asia</td>\n",
              "            <td>Afghanistan</td>\n",
              "            <td>2020-01-08</td>\n",
              "            <td>41128772.0</td>\n",
              "            <td>None</td>\n",
              "            <td>0.0</td>\n",
              "            <td>None</td>\n",
              "            <td>0.0</td>\n",
              "        </tr>\n",
              "        <tr>\n",
              "            <td>Asia</td>\n",
              "            <td>Afghanistan</td>\n",
              "            <td>2020-01-08</td>\n",
              "            <td>41128772.0</td>\n",
              "            <td>None</td>\n",
              "            <td>0.0</td>\n",
              "            <td>None</td>\n",
              "            <td>0.0</td>\n",
              "        </tr>\n",
              "        <tr>\n",
              "            <td>Asia</td>\n",
              "            <td>Afghanistan</td>\n",
              "            <td>2020-01-09</td>\n",
              "            <td>41128772.0</td>\n",
              "            <td>None</td>\n",
              "            <td>0.0</td>\n",
              "            <td>None</td>\n",
              "            <td>0.0</td>\n",
              "        </tr>\n",
              "        <tr>\n",
              "            <td>Asia</td>\n",
              "            <td>Afghanistan</td>\n",
              "            <td>2020-01-09</td>\n",
              "            <td>41128772.0</td>\n",
              "            <td>None</td>\n",
              "            <td>0.0</td>\n",
              "            <td>None</td>\n",
              "            <td>0.0</td>\n",
              "        </tr>\n",
              "    </tbody>\n",
              "</table>"
            ]
          },
          "metadata": {},
          "execution_count": 55
        }
      ]
    },
    {
      "cell_type": "code",
      "source": [
        "%%sql\n",
        "PRAGMA table_info(COVID_DEATHS_PROCESSED)"
      ],
      "metadata": {
        "colab": {
          "base_uri": "https://localhost:8080/",
          "height": 246
        },
        "id": "WV-0akSnoIag",
        "outputId": "d8fb0e2d-3c8b-41a7-96d7-7410d3a03364"
      },
      "execution_count": 56,
      "outputs": [
        {
          "output_type": "stream",
          "name": "stdout",
          "text": [
            " * sqlite:///covid_data.db\n",
            "Done.\n"
          ]
        },
        {
          "output_type": "execute_result",
          "data": {
            "text/plain": [
              "[(0, 'continent', 'TEXT', 0, None, 0),\n",
              " (1, 'location', 'TEXT', 0, None, 0),\n",
              " (2, 'date', 'DATE', 0, None, 0),\n",
              " (3, 'population', 'REAL', 0, None, 0),\n",
              " (4, 'total_cases', 'REAL', 0, None, 0),\n",
              " (5, 'new_cases', 'REAL', 0, None, 0),\n",
              " (6, 'total_deaths', 'REAL', 0, None, 0),\n",
              " (7, 'new_deaths', 'REAL', 0, None, 0)]"
            ],
            "text/html": [
              "<table>\n",
              "    <thead>\n",
              "        <tr>\n",
              "            <th>cid</th>\n",
              "            <th>name</th>\n",
              "            <th>type</th>\n",
              "            <th>notnull</th>\n",
              "            <th>dflt_value</th>\n",
              "            <th>pk</th>\n",
              "        </tr>\n",
              "    </thead>\n",
              "    <tbody>\n",
              "        <tr>\n",
              "            <td>0</td>\n",
              "            <td>continent</td>\n",
              "            <td>TEXT</td>\n",
              "            <td>0</td>\n",
              "            <td>None</td>\n",
              "            <td>0</td>\n",
              "        </tr>\n",
              "        <tr>\n",
              "            <td>1</td>\n",
              "            <td>location</td>\n",
              "            <td>TEXT</td>\n",
              "            <td>0</td>\n",
              "            <td>None</td>\n",
              "            <td>0</td>\n",
              "        </tr>\n",
              "        <tr>\n",
              "            <td>2</td>\n",
              "            <td>date</td>\n",
              "            <td>DATE</td>\n",
              "            <td>0</td>\n",
              "            <td>None</td>\n",
              "            <td>0</td>\n",
              "        </tr>\n",
              "        <tr>\n",
              "            <td>3</td>\n",
              "            <td>population</td>\n",
              "            <td>REAL</td>\n",
              "            <td>0</td>\n",
              "            <td>None</td>\n",
              "            <td>0</td>\n",
              "        </tr>\n",
              "        <tr>\n",
              "            <td>4</td>\n",
              "            <td>total_cases</td>\n",
              "            <td>REAL</td>\n",
              "            <td>0</td>\n",
              "            <td>None</td>\n",
              "            <td>0</td>\n",
              "        </tr>\n",
              "        <tr>\n",
              "            <td>5</td>\n",
              "            <td>new_cases</td>\n",
              "            <td>REAL</td>\n",
              "            <td>0</td>\n",
              "            <td>None</td>\n",
              "            <td>0</td>\n",
              "        </tr>\n",
              "        <tr>\n",
              "            <td>6</td>\n",
              "            <td>total_deaths</td>\n",
              "            <td>REAL</td>\n",
              "            <td>0</td>\n",
              "            <td>None</td>\n",
              "            <td>0</td>\n",
              "        </tr>\n",
              "        <tr>\n",
              "            <td>7</td>\n",
              "            <td>new_deaths</td>\n",
              "            <td>REAL</td>\n",
              "            <td>0</td>\n",
              "            <td>None</td>\n",
              "            <td>0</td>\n",
              "        </tr>\n",
              "    </tbody>\n",
              "</table>"
            ]
          },
          "metadata": {},
          "execution_count": 56
        }
      ]
    },
    {
      "cell_type": "markdown",
      "source": [
        "Everything looks good. Now, let's explore the number of unique locations and continents in our dataset using the processed table."
      ],
      "metadata": {
        "id": "ssr7Xxxj0x2v"
      }
    },
    {
      "cell_type": "code",
      "source": [
        "%%sql\n",
        "SELECT DISTINCT continent, location\n",
        "FROM COVID_DEATHS_PROCESSED\n",
        "ORDER BY 1, 2\n",
        "LIMIT 10"
      ],
      "metadata": {
        "colab": {
          "base_uri": "https://localhost:8080/",
          "height": 289
        },
        "id": "CcV9dj-q01VI",
        "outputId": "800d154c-dee2-4789-9cac-629d06247f41"
      },
      "execution_count": 57,
      "outputs": [
        {
          "output_type": "stream",
          "name": "stdout",
          "text": [
            " * sqlite:///covid_data.db\n",
            "Done.\n"
          ]
        },
        {
          "output_type": "execute_result",
          "data": {
            "text/plain": [
              "[(None, 'Africa'),\n",
              " (None, 'Asia'),\n",
              " (None, 'Europe'),\n",
              " (None, 'European Union'),\n",
              " (None, 'High income'),\n",
              " (None, 'Low income'),\n",
              " (None, 'Lower middle income'),\n",
              " (None, 'North America'),\n",
              " (None, 'Oceania'),\n",
              " (None, 'South America')]"
            ],
            "text/html": [
              "<table>\n",
              "    <thead>\n",
              "        <tr>\n",
              "            <th>continent</th>\n",
              "            <th>location</th>\n",
              "        </tr>\n",
              "    </thead>\n",
              "    <tbody>\n",
              "        <tr>\n",
              "            <td>None</td>\n",
              "            <td>Africa</td>\n",
              "        </tr>\n",
              "        <tr>\n",
              "            <td>None</td>\n",
              "            <td>Asia</td>\n",
              "        </tr>\n",
              "        <tr>\n",
              "            <td>None</td>\n",
              "            <td>Europe</td>\n",
              "        </tr>\n",
              "        <tr>\n",
              "            <td>None</td>\n",
              "            <td>European Union</td>\n",
              "        </tr>\n",
              "        <tr>\n",
              "            <td>None</td>\n",
              "            <td>High income</td>\n",
              "        </tr>\n",
              "        <tr>\n",
              "            <td>None</td>\n",
              "            <td>Low income</td>\n",
              "        </tr>\n",
              "        <tr>\n",
              "            <td>None</td>\n",
              "            <td>Lower middle income</td>\n",
              "        </tr>\n",
              "        <tr>\n",
              "            <td>None</td>\n",
              "            <td>North America</td>\n",
              "        </tr>\n",
              "        <tr>\n",
              "            <td>None</td>\n",
              "            <td>Oceania</td>\n",
              "        </tr>\n",
              "        <tr>\n",
              "            <td>None</td>\n",
              "            <td>South America</td>\n",
              "        </tr>\n",
              "    </tbody>\n",
              "</table>"
            ]
          },
          "metadata": {},
          "execution_count": 57
        }
      ]
    },
    {
      "cell_type": "markdown",
      "source": [
        "We can observe that there are rows where the `continent` is null, and the `location` is the continent itself (such as Asia, Africa, Europe, etc.), or descriptors like High income, Low income, Lower middle income, Upper middle income, or World.\n",
        "\n",
        "For our further analysis in this project, to obtain accurate numbers for each country, we will filter out the rows where the `continent` is null. If we need to gather the numbers for each continent, we will use the rows where the `continent` is null and the `location` is the respective continent."
      ],
      "metadata": {
        "id": "cuvGQcjn3Gtt"
      }
    },
    {
      "cell_type": "markdown",
      "source": [
        "### Insights for the whole world"
      ],
      "metadata": {
        "id": "7-zxtJ5oNkfc"
      }
    },
    {
      "cell_type": "markdown",
      "source": [
        "Let's examine the global total number of COVID-19 cases and deaths."
      ],
      "metadata": {
        "id": "mBiq61B23e52"
      }
    },
    {
      "cell_type": "code",
      "source": [
        "# Let's look at the global numbers\n",
        "%%sql\n",
        "SELECT\n",
        "  MAX(total_cases) AS global_total_cases,\n",
        "  MAX(total_deaths) AS global_total_deaths,\n",
        "  MAX(total_deaths) / MAX(total_cases) * 1000 AS global_death_percentage\n",
        "FROM COVID_DEATHS_PROCESSED\n",
        "WHERE location == 'World'"
      ],
      "metadata": {
        "colab": {
          "base_uri": "https://localhost:8080/",
          "height": 96
        },
        "id": "joHgmXeT3qCJ",
        "outputId": "7e297a1d-c05b-4061-88c4-10033ed8571c"
      },
      "execution_count": 58,
      "outputs": [
        {
          "output_type": "stream",
          "name": "stdout",
          "text": [
            " * sqlite:///covid_data.db\n",
            "Done.\n"
          ]
        },
        {
          "output_type": "execute_result",
          "data": {
            "text/plain": [
              "[(775251765.0, 7043660.0, 9.08564200431069)]"
            ],
            "text/html": [
              "<table>\n",
              "    <thead>\n",
              "        <tr>\n",
              "            <th>global_total_cases</th>\n",
              "            <th>global_total_deaths</th>\n",
              "            <th>global_death_percentage</th>\n",
              "        </tr>\n",
              "    </thead>\n",
              "    <tbody>\n",
              "        <tr>\n",
              "            <td>775251765.0</td>\n",
              "            <td>7043660.0</td>\n",
              "            <td>9.08564200431069</td>\n",
              "        </tr>\n",
              "    </tbody>\n",
              "</table>"
            ]
          },
          "metadata": {},
          "execution_count": 58
        }
      ]
    },
    {
      "cell_type": "markdown",
      "source": [
        "The dataset shows that approximately 775 million confirmed COVID-19 cases and 7.04 million deaths globally, resulting in a death percentage of around 9.09%."
      ],
      "metadata": {
        "id": "2GFMkvTj48mQ"
      }
    },
    {
      "cell_type": "markdown",
      "source": [
        "Let's examine the trend of new COVID-19 cases and deaths worldwide over time."
      ],
      "metadata": {
        "id": "PTR9U6ZI7nXw"
      }
    },
    {
      "cell_type": "code",
      "source": [
        "%%sql\n",
        "SELECT\n",
        "  date,\n",
        "  SUM(new_cases) AS global_new_cases,\n",
        "  SUM(new_deaths) AS global_new_deaths\n",
        "FROM COVID_DEATHS_PROCESSED\n",
        "WHERE continent IS NOT NULL\n",
        "  AND NOT (new_cases == 0 AND new_deaths == 0)\n",
        "GROUP BY date\n",
        "ORDER BY date\n",
        "LIMIT 10"
      ],
      "metadata": {
        "colab": {
          "base_uri": "https://localhost:8080/",
          "height": 289
        },
        "id": "4GkmBoAV7sdT",
        "outputId": "749e5c70-f4b2-4608-cdaa-14a188125f81"
      },
      "execution_count": 59,
      "outputs": [
        {
          "output_type": "stream",
          "name": "stdout",
          "text": [
            " * sqlite:///covid_data.db\n",
            "Done.\n"
          ]
        },
        {
          "output_type": "execute_result",
          "data": {
            "text/plain": [
              "[('2020-01-05', 4.0, 6.0),\n",
              " ('2020-01-12', 90.0, 2.0),\n",
              " ('2020-01-19', 180.0, 4.0),\n",
              " ('2020-01-26', 3792.0, 112.0),\n",
              " ('2020-02-02', 25076.0, 620.0),\n",
              " ('2020-02-09', 45970.0, 1090.0),\n",
              " ('2020-02-16', 62898.0, 1728.0),\n",
              " ('2020-02-23', 18484.0, 1380.0),\n",
              " ('2020-03-01', 16534.0, 1030.0),\n",
              " ('2020-03-08', 40414.0, 1298.0)]"
            ],
            "text/html": [
              "<table>\n",
              "    <thead>\n",
              "        <tr>\n",
              "            <th>date</th>\n",
              "            <th>global_new_cases</th>\n",
              "            <th>global_new_deaths</th>\n",
              "        </tr>\n",
              "    </thead>\n",
              "    <tbody>\n",
              "        <tr>\n",
              "            <td>2020-01-05</td>\n",
              "            <td>4.0</td>\n",
              "            <td>6.0</td>\n",
              "        </tr>\n",
              "        <tr>\n",
              "            <td>2020-01-12</td>\n",
              "            <td>90.0</td>\n",
              "            <td>2.0</td>\n",
              "        </tr>\n",
              "        <tr>\n",
              "            <td>2020-01-19</td>\n",
              "            <td>180.0</td>\n",
              "            <td>4.0</td>\n",
              "        </tr>\n",
              "        <tr>\n",
              "            <td>2020-01-26</td>\n",
              "            <td>3792.0</td>\n",
              "            <td>112.0</td>\n",
              "        </tr>\n",
              "        <tr>\n",
              "            <td>2020-02-02</td>\n",
              "            <td>25076.0</td>\n",
              "            <td>620.0</td>\n",
              "        </tr>\n",
              "        <tr>\n",
              "            <td>2020-02-09</td>\n",
              "            <td>45970.0</td>\n",
              "            <td>1090.0</td>\n",
              "        </tr>\n",
              "        <tr>\n",
              "            <td>2020-02-16</td>\n",
              "            <td>62898.0</td>\n",
              "            <td>1728.0</td>\n",
              "        </tr>\n",
              "        <tr>\n",
              "            <td>2020-02-23</td>\n",
              "            <td>18484.0</td>\n",
              "            <td>1380.0</td>\n",
              "        </tr>\n",
              "        <tr>\n",
              "            <td>2020-03-01</td>\n",
              "            <td>16534.0</td>\n",
              "            <td>1030.0</td>\n",
              "        </tr>\n",
              "        <tr>\n",
              "            <td>2020-03-08</td>\n",
              "            <td>40414.0</td>\n",
              "            <td>1298.0</td>\n",
              "        </tr>\n",
              "    </tbody>\n",
              "</table>"
            ]
          },
          "metadata": {},
          "execution_count": 59
        }
      ]
    },
    {
      "cell_type": "markdown",
      "source": [
        "\n",
        "**Insights from COVID-19 Data Analysis**\n",
        "1. **Rapid Increase in Cases:**\n",
        "- A sharp rise in global new COVID-19 cases is observed from March 2020.\n",
        "- Notable peak: February 2, 2020, with 12,538 new cases reported in a single day.\n",
        "\n",
        "2. **Corresponding Rise in Deaths:**\n",
        "- As new cases surged, new COVID-19 deaths also increased.\n",
        "- Peak in new deaths: February 2, 2020, with 310 fatalities reported on the same day.\n",
        "\n",
        "3. **Waves of Increase:**\n",
        "- Waves of high new cases and deaths were evident in March 2020, July 2020, and January 2021.\n",
        "- These periods signify significant challenges in controlling the spread and impact of the virus.\n",
        "\n",
        "4. **Recent Trends:**\n",
        "- Towards the end of 2021 and into 2022, a gradual decrease in new cases and deaths is observed.\n",
        "- However, ongoing fluctuations suggest continued challenges despite improvements in some regions.\n",
        "\n",
        "These insights provide a snapshot of the dynamic nature of the COVID-19 pandemic, showcasing periods of rapid escalation, peaks, and recent improvements. It underscores the importance of ongoing vigilance and strategies to combat the virus's spread and impact on a global scale."
      ],
      "metadata": {
        "id": "8JrXIMQ-86Mw"
      }
    },
    {
      "cell_type": "markdown",
      "source": [
        "### Insights for each continent"
      ],
      "metadata": {
        "id": "lQEJJl94Nfl6"
      }
    },
    {
      "cell_type": "markdown",
      "source": [
        "Let's take a closer look at the numbers of COVID-19 cases and deaths in each continent."
      ],
      "metadata": {
        "id": "yZmLsHyj_hLb"
      }
    },
    {
      "cell_type": "code",
      "source": [
        "%%sql\n",
        "SELECT\n",
        "  location,\n",
        "  MAX(population) AS population,\n",
        "  MAX(total_cases) AS total_cases,\n",
        "  MAX(total_deaths) AS total_deaths,\n",
        "  MAX(total_cases) / MAX(population) AS covid_percentage,\n",
        "  MAX(total_deaths) / MAX(total_cases) AS death_percentage\n",
        "FROM COVID_DEATHS_PROCESSED\n",
        "WHERE continent IS NULL\n",
        "  AND location NOT IN ('World', 'High income', 'Upper middle income', 'Lower middle income', 'Low income')\n",
        "GROUP BY location\n",
        "ORDER BY location"
      ],
      "metadata": {
        "colab": {
          "base_uri": "https://localhost:8080/",
          "height": 225
        },
        "id": "mpbufxeM_sYL",
        "outputId": "aa2159e4-5b03-4a04-faf4-e90e542954a4"
      },
      "execution_count": 60,
      "outputs": [
        {
          "output_type": "stream",
          "name": "stdout",
          "text": [
            " * sqlite:///covid_data.db\n",
            "Done.\n"
          ]
        },
        {
          "output_type": "execute_result",
          "data": {
            "text/plain": [
              "[('Africa', 1426736614.0, 13140491.0, 259095.0, 0.009210172971701699, 0.01971729975691167),\n",
              " ('Asia', 4721383370.0, 301392304.0, 1636933.0, 0.06383559232132424, 0.005431236890507994),\n",
              " ('Europe', 744807803.0, 252450811.0, 2099805.0, 0.3389475915573887, 0.008317679755839644),\n",
              " ('European Union', 450146793.0, 185619587.0, 1260979.0, 0.4123534586638719, 0.006793350962471433),\n",
              " ('North America', 600323657.0, 124541232.0, 1661466.0, 0.2074568119177086, 0.01334069025429265),\n",
              " ('Oceania', 45038860.0, 14894138.0, 32334.0, 0.3306952707062301, 0.0021709212040334257),\n",
              " ('South America', 436816679.0, 68826532.0, 1354009.0, 0.1575638827655663, 0.01967277677160895)]"
            ],
            "text/html": [
              "<table>\n",
              "    <thead>\n",
              "        <tr>\n",
              "            <th>location</th>\n",
              "            <th>population</th>\n",
              "            <th>total_cases</th>\n",
              "            <th>total_deaths</th>\n",
              "            <th>covid_percentage</th>\n",
              "            <th>death_percentage</th>\n",
              "        </tr>\n",
              "    </thead>\n",
              "    <tbody>\n",
              "        <tr>\n",
              "            <td>Africa</td>\n",
              "            <td>1426736614.0</td>\n",
              "            <td>13140491.0</td>\n",
              "            <td>259095.0</td>\n",
              "            <td>0.009210172971701699</td>\n",
              "            <td>0.01971729975691167</td>\n",
              "        </tr>\n",
              "        <tr>\n",
              "            <td>Asia</td>\n",
              "            <td>4721383370.0</td>\n",
              "            <td>301392304.0</td>\n",
              "            <td>1636933.0</td>\n",
              "            <td>0.06383559232132424</td>\n",
              "            <td>0.005431236890507994</td>\n",
              "        </tr>\n",
              "        <tr>\n",
              "            <td>Europe</td>\n",
              "            <td>744807803.0</td>\n",
              "            <td>252450811.0</td>\n",
              "            <td>2099805.0</td>\n",
              "            <td>0.3389475915573887</td>\n",
              "            <td>0.008317679755839644</td>\n",
              "        </tr>\n",
              "        <tr>\n",
              "            <td>European Union</td>\n",
              "            <td>450146793.0</td>\n",
              "            <td>185619587.0</td>\n",
              "            <td>1260979.0</td>\n",
              "            <td>0.4123534586638719</td>\n",
              "            <td>0.006793350962471433</td>\n",
              "        </tr>\n",
              "        <tr>\n",
              "            <td>North America</td>\n",
              "            <td>600323657.0</td>\n",
              "            <td>124541232.0</td>\n",
              "            <td>1661466.0</td>\n",
              "            <td>0.2074568119177086</td>\n",
              "            <td>0.01334069025429265</td>\n",
              "        </tr>\n",
              "        <tr>\n",
              "            <td>Oceania</td>\n",
              "            <td>45038860.0</td>\n",
              "            <td>14894138.0</td>\n",
              "            <td>32334.0</td>\n",
              "            <td>0.3306952707062301</td>\n",
              "            <td>0.0021709212040334257</td>\n",
              "        </tr>\n",
              "        <tr>\n",
              "            <td>South America</td>\n",
              "            <td>436816679.0</td>\n",
              "            <td>68826532.0</td>\n",
              "            <td>1354009.0</td>\n",
              "            <td>0.1575638827655663</td>\n",
              "            <td>0.01967277677160895</td>\n",
              "        </tr>\n",
              "    </tbody>\n",
              "</table>"
            ]
          },
          "metadata": {},
          "execution_count": 60
        }
      ]
    },
    {
      "cell_type": "markdown",
      "source": [
        "**Insights from COVID-19 Data Analysis by Continent**\n",
        "\n",
        "- **Asia** has the highest total cases among the continents, with 301,392,304 reported cases. Despite this, the death percentage is relatively low at 0.54%.\n",
        "\n",
        "- **Europe** follows closely with 252,450,811 total cases, showing a high case percentage of around 33.89%. The death percentage, while lower at 0.83%, is still notable.\n",
        "\n",
        "- **North America** has the third highest total cases, with 124,541,232 reported. The death percentage is relatively higher at 1.33%, indicating a significant impact of COVID-19 on this continent.\n",
        "\n",
        "- **South America** has a lower total cases compared to other continents, with 68,826,532 reported. However, the death percentage is relatively higher at 1.97%, indicating a notable impact of the virus on the population.\n",
        "\n",
        "- Within Europe, the **European Union** has 185,619,587 total cases. The case percentage is notably high at 41.24%, with a death percentage of 0.68%.\n",
        "\n",
        "- **Africa** has the lowest total cases among the continents, with 13,140,491 reported. However, the death percentage is relatively higher at 1.97%, indicating a significant impact on those who contract the virus.\n",
        "\n",
        "These insights highlight Asia as the continent with the highest total cases, followed closely by Europe. Despite Europe's high case numbers, Asia has a lower death percentage. North America and South America also show significant numbers, with varying death percentages. The European Union stands out within Europe with its high case percentage. Africa has the lowest total cases but a relatively higher death percentage among the continents analyzed.\n"
      ],
      "metadata": {
        "id": "tSB7I7EDBdws"
      }
    },
    {
      "cell_type": "markdown",
      "source": [
        "How about the total cases and deaths categorized by the country's income level?"
      ],
      "metadata": {
        "id": "2aaNYaTVFO0l"
      }
    },
    {
      "cell_type": "code",
      "source": [
        "%%sql\n",
        "SELECT\n",
        "  location,\n",
        "  MAX(population) AS population,\n",
        "  MAX(total_cases) AS total_cases,\n",
        "  MAX(total_deaths) AS total_deaths,\n",
        "  MAX(total_cases) / MAX(population) AS covid_percentage,\n",
        "  MAX(total_deaths) / MAX(total_cases) AS death_percentage\n",
        "FROM COVID_DEATHS_PROCESSED\n",
        "WHERE continent IS NULL\n",
        "  AND location IN ('High income', 'Upper middle income', 'Lower middle income', 'Low income')\n",
        "GROUP BY location\n",
        "ORDER BY location"
      ],
      "metadata": {
        "colab": {
          "base_uri": "https://localhost:8080/",
          "height": 160
        },
        "id": "SxznI2XfE_Se",
        "outputId": "b5df6bc5-a96e-42d6-ef0b-eb4ebe8b8a93"
      },
      "execution_count": 61,
      "outputs": [
        {
          "output_type": "stream",
          "name": "stdout",
          "text": [
            " * sqlite:///covid_data.db\n",
            "Done.\n"
          ]
        },
        {
          "output_type": "execute_result",
          "data": {
            "text/plain": [
              "[('High income', 1250514600.0, 428541299.0, 2983098.0, 0.34269195977400024, 0.006961051378154337),\n",
              " ('Low income', 737604900.0, 2328082.0, 48045.0, 0.0031562724163030913, 0.020637159687674232),\n",
              " ('Lower middle income', 3432097300.0, 97535147.0, 1341389.0, 0.02841852618805417, 0.01375287823167991),\n",
              " ('Upper middle income', 2525921300.0, 245634014.0, 2667162.0, 0.09724531560029206, 0.010858276329759444)]"
            ],
            "text/html": [
              "<table>\n",
              "    <thead>\n",
              "        <tr>\n",
              "            <th>location</th>\n",
              "            <th>population</th>\n",
              "            <th>total_cases</th>\n",
              "            <th>total_deaths</th>\n",
              "            <th>covid_percentage</th>\n",
              "            <th>death_percentage</th>\n",
              "        </tr>\n",
              "    </thead>\n",
              "    <tbody>\n",
              "        <tr>\n",
              "            <td>High income</td>\n",
              "            <td>1250514600.0</td>\n",
              "            <td>428541299.0</td>\n",
              "            <td>2983098.0</td>\n",
              "            <td>0.34269195977400024</td>\n",
              "            <td>0.006961051378154337</td>\n",
              "        </tr>\n",
              "        <tr>\n",
              "            <td>Low income</td>\n",
              "            <td>737604900.0</td>\n",
              "            <td>2328082.0</td>\n",
              "            <td>48045.0</td>\n",
              "            <td>0.0031562724163030913</td>\n",
              "            <td>0.020637159687674232</td>\n",
              "        </tr>\n",
              "        <tr>\n",
              "            <td>Lower middle income</td>\n",
              "            <td>3432097300.0</td>\n",
              "            <td>97535147.0</td>\n",
              "            <td>1341389.0</td>\n",
              "            <td>0.02841852618805417</td>\n",
              "            <td>0.01375287823167991</td>\n",
              "        </tr>\n",
              "        <tr>\n",
              "            <td>Upper middle income</td>\n",
              "            <td>2525921300.0</td>\n",
              "            <td>245634014.0</td>\n",
              "            <td>2667162.0</td>\n",
              "            <td>0.09724531560029206</td>\n",
              "            <td>0.010858276329759444</td>\n",
              "        </tr>\n",
              "    </tbody>\n",
              "</table>"
            ]
          },
          "metadata": {},
          "execution_count": 61
        }
      ]
    },
    {
      "cell_type": "markdown",
      "source": [
        "**Insights from COVID-19 Data Analysis by Country's Income Level**\n",
        "\n",
        "- **High income countries** show a high total number of cases, with 428,541,299 reported. The case percentage is notably high at 34.27%, while the death percentage is relatively low at 0.70%.\n",
        "\n",
        "- **Low income countries** have a lower total number of cases, with 2,328,082 reported. However, the death percentage is relatively higher at 2.06%, indicating a significant impact on these countries despite lower case numbers.\n",
        "\n",
        "- **Lower middle income countries** show a moderate total number of cases at 97,535,147. The case percentage is 2.84%, with a death percentage of 1.38%.\n",
        "\n",
        "- **Upper middle income countries** have a high total number of cases, with 245,634,014 reported. The case percentage is notably high at 9.72%, while the death percentage is 1.09%.\n",
        "\n",
        "These insights provide a glimpse into how the COVID-19 pandemic has affected countries based on their income levels. High income countries have a notably high case percentage, while low income countries show a relatively higher death percentage despite lower case numbers. Lower and upper middle income countries fall in between, with varying case and death percentages. Understanding these trends can aid in tailoring effective public health measures for different income level countries."
      ],
      "metadata": {
        "id": "Rosvwt8mFaf1"
      }
    },
    {
      "cell_type": "markdown",
      "source": [
        "### Insights for each country"
      ],
      "metadata": {
        "id": "wGycLk0LNaOu"
      }
    },
    {
      "cell_type": "markdown",
      "source": [
        "Let's explore the impact of COVID-19 on each country and examine the country with the highest infection rate relative to its population."
      ],
      "metadata": {
        "id": "VpBY8s-gG8HL"
      }
    },
    {
      "cell_type": "code",
      "source": [
        "%%sql\n",
        "SELECT\n",
        "  location,\n",
        "  population,\n",
        "  MAX(total_cases) AS total_cases,\n",
        "  MAX(total_cases / population) AS covid_percentage\n",
        "FROM COVID_DEATHS_PROCESSED\n",
        "WHERE continent IS NOT NULL\n",
        "GROUP BY location, population\n",
        "ORDER BY covid_percentage DESC\n",
        "LIMIT 10"
      ],
      "metadata": {
        "colab": {
          "base_uri": "https://localhost:8080/",
          "height": 289
        },
        "id": "KeGAlsSeG87L",
        "outputId": "628e6267-2082-4b68-ebda-00e1af3ac6a0"
      },
      "execution_count": 62,
      "outputs": [
        {
          "output_type": "stream",
          "name": "stdout",
          "text": [
            " * sqlite:///covid_data.db\n",
            "Done.\n"
          ]
        },
        {
          "output_type": "execute_result",
          "data": {
            "text/plain": [
              "[('Cyprus', 896007.0, 690547.0, 0.7706937557407476),\n",
              " ('Brunei', 449002.0, 343770.0, 0.7656313334907194),\n",
              " ('San Marino', 33690.0, 25292.0, 0.7507272187592757),\n",
              " ('Austria', 8939617.0, 6081287.0, 0.6802625884308019),\n",
              " ('South Korea', 51815808.0, 34571873.0, 0.6672070615978815),\n",
              " ('Faeroe Islands', 53117.0, 34658.0, 0.6524841387879586),\n",
              " ('Slovenia', 2119843.0, 1355844.0, 0.6395964229426424),\n",
              " ('Gibraltar', 32677.0, 20550.0, 0.628882700370291),\n",
              " ('Martinique', 367512.0, 230354.0, 0.6267931387274429),\n",
              " ('Luxembourg', 647601.0, 391270.0, 0.6041837489441801)]"
            ],
            "text/html": [
              "<table>\n",
              "    <thead>\n",
              "        <tr>\n",
              "            <th>location</th>\n",
              "            <th>population</th>\n",
              "            <th>total_cases</th>\n",
              "            <th>covid_percentage</th>\n",
              "        </tr>\n",
              "    </thead>\n",
              "    <tbody>\n",
              "        <tr>\n",
              "            <td>Cyprus</td>\n",
              "            <td>896007.0</td>\n",
              "            <td>690547.0</td>\n",
              "            <td>0.7706937557407476</td>\n",
              "        </tr>\n",
              "        <tr>\n",
              "            <td>Brunei</td>\n",
              "            <td>449002.0</td>\n",
              "            <td>343770.0</td>\n",
              "            <td>0.7656313334907194</td>\n",
              "        </tr>\n",
              "        <tr>\n",
              "            <td>San Marino</td>\n",
              "            <td>33690.0</td>\n",
              "            <td>25292.0</td>\n",
              "            <td>0.7507272187592757</td>\n",
              "        </tr>\n",
              "        <tr>\n",
              "            <td>Austria</td>\n",
              "            <td>8939617.0</td>\n",
              "            <td>6081287.0</td>\n",
              "            <td>0.6802625884308019</td>\n",
              "        </tr>\n",
              "        <tr>\n",
              "            <td>South Korea</td>\n",
              "            <td>51815808.0</td>\n",
              "            <td>34571873.0</td>\n",
              "            <td>0.6672070615978815</td>\n",
              "        </tr>\n",
              "        <tr>\n",
              "            <td>Faeroe Islands</td>\n",
              "            <td>53117.0</td>\n",
              "            <td>34658.0</td>\n",
              "            <td>0.6524841387879586</td>\n",
              "        </tr>\n",
              "        <tr>\n",
              "            <td>Slovenia</td>\n",
              "            <td>2119843.0</td>\n",
              "            <td>1355844.0</td>\n",
              "            <td>0.6395964229426424</td>\n",
              "        </tr>\n",
              "        <tr>\n",
              "            <td>Gibraltar</td>\n",
              "            <td>32677.0</td>\n",
              "            <td>20550.0</td>\n",
              "            <td>0.628882700370291</td>\n",
              "        </tr>\n",
              "        <tr>\n",
              "            <td>Martinique</td>\n",
              "            <td>367512.0</td>\n",
              "            <td>230354.0</td>\n",
              "            <td>0.6267931387274429</td>\n",
              "        </tr>\n",
              "        <tr>\n",
              "            <td>Luxembourg</td>\n",
              "            <td>647601.0</td>\n",
              "            <td>391270.0</td>\n",
              "            <td>0.6041837489441801</td>\n",
              "        </tr>\n",
              "    </tbody>\n",
              "</table>"
            ]
          },
          "metadata": {},
          "execution_count": 62
        }
      ]
    },
    {
      "cell_type": "markdown",
      "source": [
        "- **Cyprus** has the highest COVID-19 rate among the countries in the dataset, with 77.07% of its population infected.\n",
        "- **Brunei** follows closely behind with a COVID-19 rate of 76.56%.\n",
        "- **San Marino**, although having a much smaller population, has a COVID-19 rate of 75.07%.\n",
        "\n",
        "These countries have experienced significant outbreaks relative to their populations. Further investigation into the factors contributing to these high rates, such as testing availability, healthcare infrastructure, and public health measures, could provide valuable insights."
      ],
      "metadata": {
        "id": "KkD_4sbbHg91"
      }
    },
    {
      "cell_type": "markdown",
      "source": [
        "Let's examine the country with the highest COVID-19 death toll per capita.\n"
      ],
      "metadata": {
        "id": "xy41cO5mHyce"
      }
    },
    {
      "cell_type": "code",
      "source": [
        "%%sql\n",
        "SELECT\n",
        "  location,\n",
        "  population,\n",
        "  MAX(total_deaths) AS total_deaths,\n",
        "  MAX(total_deaths / population) AS death_percentage\n",
        "FROM COVID_DEATHS_PROCESSED\n",
        "WHERE continent IS NOT NULL\n",
        "GROUP BY location, population\n",
        "ORDER BY death_percentage DESC\n",
        "LIMIT 10"
      ],
      "metadata": {
        "colab": {
          "base_uri": "https://localhost:8080/",
          "height": 289
        },
        "id": "MhZa1p7GHuZZ",
        "outputId": "aeeb933f-3b7f-4699-dc77-7b8db539798e"
      },
      "execution_count": 63,
      "outputs": [
        {
          "output_type": "stream",
          "name": "stdout",
          "text": [
            " * sqlite:///covid_data.db\n",
            "Done.\n"
          ]
        },
        {
          "output_type": "execute_result",
          "data": {
            "text/plain": [
              "[('Peru', 34049588.0, 220831.0, 0.00648557039809116),\n",
              " ('Bulgaria', 6781955.0, 38700.0, 0.005706319195571188),\n",
              " ('Bosnia and Herzegovina', 3233530.0, 16388.0, 0.005068145339613364),\n",
              " ('Hungary', 9967304.0, 49049.0, 0.004920989667817897),\n",
              " ('North Macedonia', 2093606.0, 9977.0, 0.004765462078347119),\n",
              " ('Slovenia', 2119843.0, 10049.0, 0.004740445400909407),\n",
              " ('Croatia', 4030361.0, 18751.0, 0.0046524368412655835),\n",
              " ('Georgia', 3744385.0, 17132.0, 0.004575384208621709),\n",
              " ('Montenegro', 627082.0, 2654.0, 0.004232301357717173),\n",
              " ('Czechia', 10493990.0, 43503.0, 0.004145515671350936)]"
            ],
            "text/html": [
              "<table>\n",
              "    <thead>\n",
              "        <tr>\n",
              "            <th>location</th>\n",
              "            <th>population</th>\n",
              "            <th>total_deaths</th>\n",
              "            <th>death_percentage</th>\n",
              "        </tr>\n",
              "    </thead>\n",
              "    <tbody>\n",
              "        <tr>\n",
              "            <td>Peru</td>\n",
              "            <td>34049588.0</td>\n",
              "            <td>220831.0</td>\n",
              "            <td>0.00648557039809116</td>\n",
              "        </tr>\n",
              "        <tr>\n",
              "            <td>Bulgaria</td>\n",
              "            <td>6781955.0</td>\n",
              "            <td>38700.0</td>\n",
              "            <td>0.005706319195571188</td>\n",
              "        </tr>\n",
              "        <tr>\n",
              "            <td>Bosnia and Herzegovina</td>\n",
              "            <td>3233530.0</td>\n",
              "            <td>16388.0</td>\n",
              "            <td>0.005068145339613364</td>\n",
              "        </tr>\n",
              "        <tr>\n",
              "            <td>Hungary</td>\n",
              "            <td>9967304.0</td>\n",
              "            <td>49049.0</td>\n",
              "            <td>0.004920989667817897</td>\n",
              "        </tr>\n",
              "        <tr>\n",
              "            <td>North Macedonia</td>\n",
              "            <td>2093606.0</td>\n",
              "            <td>9977.0</td>\n",
              "            <td>0.004765462078347119</td>\n",
              "        </tr>\n",
              "        <tr>\n",
              "            <td>Slovenia</td>\n",
              "            <td>2119843.0</td>\n",
              "            <td>10049.0</td>\n",
              "            <td>0.004740445400909407</td>\n",
              "        </tr>\n",
              "        <tr>\n",
              "            <td>Croatia</td>\n",
              "            <td>4030361.0</td>\n",
              "            <td>18751.0</td>\n",
              "            <td>0.0046524368412655835</td>\n",
              "        </tr>\n",
              "        <tr>\n",
              "            <td>Georgia</td>\n",
              "            <td>3744385.0</td>\n",
              "            <td>17132.0</td>\n",
              "            <td>0.004575384208621709</td>\n",
              "        </tr>\n",
              "        <tr>\n",
              "            <td>Montenegro</td>\n",
              "            <td>627082.0</td>\n",
              "            <td>2654.0</td>\n",
              "            <td>0.004232301357717173</td>\n",
              "        </tr>\n",
              "        <tr>\n",
              "            <td>Czechia</td>\n",
              "            <td>10493990.0</td>\n",
              "            <td>43503.0</td>\n",
              "            <td>0.004145515671350936</td>\n",
              "        </tr>\n",
              "    </tbody>\n",
              "</table>"
            ]
          },
          "metadata": {},
          "execution_count": 63
        }
      ]
    },
    {
      "cell_type": "markdown",
      "source": [
        "- **Peru:** With a population of 34,049,588, Peru has a death rate of 0.65% and a total of 220,831 deaths.\n",
        "- **Bulgaria:** With a population of 6,781,955, Bulgaria has a death rate of 0.57% and a total of 38,700 deaths.\n",
        "- **Bosnia and Herzegovina:** With a population of 3,233,530, Bosnia and Herzegovina has a death rate of 0.51% and a total of 16,388 deaths.\n",
        "\n",
        "These countries stand out for both their high death rates relative to their populations and their significant total death counts, illustrating the substantial impact of the COVID-19 pandemic on their communities."
      ],
      "metadata": {
        "id": "ySsdA3A3H9Bt"
      }
    },
    {
      "cell_type": "markdown",
      "source": [
        "### Insights for Vietnam"
      ],
      "metadata": {
        "id": "Si8tJ325NVAZ"
      }
    },
    {
      "cell_type": "markdown",
      "source": [
        "After analyzing the global, continental, and individual country numbers, let's shift our focus to the cases and deaths specifically in Vietnam.\n",
        "\n",
        "Let's examine the relationship between `total_cases` and `population`, illustrating the percentage of our country's population affected by COVID-19 over time."
      ],
      "metadata": {
        "id": "5-lmGfgGI-Qp"
      }
    },
    {
      "cell_type": "code",
      "source": [
        "%%sql\n",
        "SELECT\n",
        "  location,\n",
        "  date,\n",
        "  population,\n",
        "  total_cases,\n",
        "  total_cases / population AS covid_percentage\n",
        "FROM COVID_DEATHS_PROCESSED\n",
        "WHERE continent IS NOT NULL\n",
        "  AND location == 'Vietnam'\n",
        "  AND NOT (new_cases == 0 AND new_deaths == 0)\n",
        "ORDER BY location, date\n",
        "LIMIT 10"
      ],
      "metadata": {
        "colab": {
          "base_uri": "https://localhost:8080/",
          "height": 289
        },
        "id": "FgqTKVTcJAKz",
        "outputId": "359f0391-809e-42e0-cbe2-782358452b29"
      },
      "execution_count": 64,
      "outputs": [
        {
          "output_type": "stream",
          "name": "stdout",
          "text": [
            " * sqlite:///covid_data.db\n",
            "Done.\n"
          ]
        },
        {
          "output_type": "execute_result",
          "data": {
            "text/plain": [
              "[('Vietnam', '2020-01-26', 98186856.0, 2.0, 2.0369325197661894e-08),\n",
              " ('Vietnam', '2020-01-26', 98186856.0, 2.0, 2.0369325197661894e-08),\n",
              " ('Vietnam', '2020-02-02', 98186856.0, 6.0, 6.110797559298569e-08),\n",
              " ('Vietnam', '2020-02-02', 98186856.0, 6.0, 6.110797559298569e-08),\n",
              " ('Vietnam', '2020-02-09', 98186856.0, 13.0, 1.324006137848023e-07),\n",
              " ('Vietnam', '2020-02-09', 98186856.0, 13.0, 1.324006137848023e-07),\n",
              " ('Vietnam', '2020-02-16', 98186856.0, 16.0, 1.6295460158129515e-07),\n",
              " ('Vietnam', '2020-02-16', 98186856.0, 16.0, 1.6295460158129515e-07),\n",
              " ('Vietnam', '2020-03-08', 98186856.0, 20.0, 2.0369325197661894e-07),\n",
              " ('Vietnam', '2020-03-08', 98186856.0, 20.0, 2.0369325197661894e-07)]"
            ],
            "text/html": [
              "<table>\n",
              "    <thead>\n",
              "        <tr>\n",
              "            <th>location</th>\n",
              "            <th>date</th>\n",
              "            <th>population</th>\n",
              "            <th>total_cases</th>\n",
              "            <th>covid_percentage</th>\n",
              "        </tr>\n",
              "    </thead>\n",
              "    <tbody>\n",
              "        <tr>\n",
              "            <td>Vietnam</td>\n",
              "            <td>2020-01-26</td>\n",
              "            <td>98186856.0</td>\n",
              "            <td>2.0</td>\n",
              "            <td>2.0369325197661894e-08</td>\n",
              "        </tr>\n",
              "        <tr>\n",
              "            <td>Vietnam</td>\n",
              "            <td>2020-01-26</td>\n",
              "            <td>98186856.0</td>\n",
              "            <td>2.0</td>\n",
              "            <td>2.0369325197661894e-08</td>\n",
              "        </tr>\n",
              "        <tr>\n",
              "            <td>Vietnam</td>\n",
              "            <td>2020-02-02</td>\n",
              "            <td>98186856.0</td>\n",
              "            <td>6.0</td>\n",
              "            <td>6.110797559298569e-08</td>\n",
              "        </tr>\n",
              "        <tr>\n",
              "            <td>Vietnam</td>\n",
              "            <td>2020-02-02</td>\n",
              "            <td>98186856.0</td>\n",
              "            <td>6.0</td>\n",
              "            <td>6.110797559298569e-08</td>\n",
              "        </tr>\n",
              "        <tr>\n",
              "            <td>Vietnam</td>\n",
              "            <td>2020-02-09</td>\n",
              "            <td>98186856.0</td>\n",
              "            <td>13.0</td>\n",
              "            <td>1.324006137848023e-07</td>\n",
              "        </tr>\n",
              "        <tr>\n",
              "            <td>Vietnam</td>\n",
              "            <td>2020-02-09</td>\n",
              "            <td>98186856.0</td>\n",
              "            <td>13.0</td>\n",
              "            <td>1.324006137848023e-07</td>\n",
              "        </tr>\n",
              "        <tr>\n",
              "            <td>Vietnam</td>\n",
              "            <td>2020-02-16</td>\n",
              "            <td>98186856.0</td>\n",
              "            <td>16.0</td>\n",
              "            <td>1.6295460158129515e-07</td>\n",
              "        </tr>\n",
              "        <tr>\n",
              "            <td>Vietnam</td>\n",
              "            <td>2020-02-16</td>\n",
              "            <td>98186856.0</td>\n",
              "            <td>16.0</td>\n",
              "            <td>1.6295460158129515e-07</td>\n",
              "        </tr>\n",
              "        <tr>\n",
              "            <td>Vietnam</td>\n",
              "            <td>2020-03-08</td>\n",
              "            <td>98186856.0</td>\n",
              "            <td>20.0</td>\n",
              "            <td>2.0369325197661894e-07</td>\n",
              "        </tr>\n",
              "        <tr>\n",
              "            <td>Vietnam</td>\n",
              "            <td>2020-03-08</td>\n",
              "            <td>98186856.0</td>\n",
              "            <td>20.0</td>\n",
              "            <td>2.0369325197661894e-07</td>\n",
              "        </tr>\n",
              "    </tbody>\n",
              "</table>"
            ]
          },
          "metadata": {},
          "execution_count": 64
        }
      ]
    },
    {
      "cell_type": "markdown",
      "source": [
        "**Insights on COVID-19 Data for Vietnam**\n",
        "\n",
        "1. **COVID-19 Cases Over Time:**\n",
        "- The dataset starts with 2 cases on January 26, 2020, and shows a steady increase over time.\n",
        "- By October 25, 2020, the total cases reached 1,160.\n",
        "- Notable growth occurred in 2021, with 1,574,507 cases by August 1.\n",
        "- A significant spike in cases was observed towards the end of 2022 and into 2023, reaching 11,524,547 by October 22.\n",
        "\n",
        "2. **COVID-19 Percentage of Population:**\n",
        "- Initially low, the COVID-19 percentage of the population increased gradually.\n",
        "- By August 1, 2021, it was 0.0016%, rising to approximately 0.1184% by October 22, 2023.\n",
        "- This indicates a substantial spread within the population over time.\n",
        "\n",
        "3. **Trend in COVID-19 Cases:**\n",
        "- A clear exponential growth pattern is evident, particularly from 2021 onwards.\n",
        "- Rapid increases in cases were observed in the latter half of 2022 and throughout 2023.\n",
        "- This suggests challenges in containing the virus and managing its spread.\n",
        "\n",
        "The data underscores the severity and progression of COVID-19 in Vietnam, emphasizing the importance of public health measures and vaccination campaigns to combat its spread effectively. Continued vigilance and proactive measures are crucial in managing the ongoing pandemic."
      ],
      "metadata": {
        "id": "uXdgXxFJKVw4"
      }
    },
    {
      "cell_type": "markdown",
      "source": [
        "Let's analyze the correlation between `total_cases` and `total_deaths`. This will provide us with insights into the mortality rate associated with COVID-19 in our country over time."
      ],
      "metadata": {
        "id": "4G_8HF2Rvh--"
      }
    },
    {
      "cell_type": "code",
      "source": [
        "%%sql\n",
        "SELECT\n",
        "  location,\n",
        "  date,\n",
        "  total_cases,\n",
        "  total_deaths,\n",
        "  total_deaths / total_cases AS death_percentage\n",
        "FROM COVID_DEATHS\n",
        "WHERE continent IS NOT NULL\n",
        "  AND location == 'Vietnam'\n",
        "  AND NOT (new_cases == 0 AND new_deaths == 0)\n",
        "ORDER BY location, date\n",
        "LIMIT 10"
      ],
      "metadata": {
        "colab": {
          "base_uri": "https://localhost:8080/",
          "height": 289
        },
        "id": "ljq_7Mxha4bH",
        "outputId": "492efff0-1678-4cbd-cc97-625307cc6ffd"
      },
      "execution_count": 65,
      "outputs": [
        {
          "output_type": "stream",
          "name": "stdout",
          "text": [
            " * sqlite:///covid_data.db\n",
            "Done.\n"
          ]
        },
        {
          "output_type": "execute_result",
          "data": {
            "text/plain": [
              "[('Vietnam', '1/1/2023', 11525231.0, 43186.0, 0.0037470832471817703),\n",
              " ('Vietnam', '1/1/2023', 11525231.0, 43186.0, 0.0037470832471817703),\n",
              " ('Vietnam', '1/10/2021', 1514.0, 35.0, 0.023117569352708058),\n",
              " ('Vietnam', '1/10/2021', 1514.0, 35.0, 0.023117569352708058),\n",
              " ('Vietnam', '1/15/2023', 11526118.0, 43186.0, 0.0037467948879232366),\n",
              " ('Vietnam', '1/15/2023', 11526118.0, 43186.0, 0.0037467948879232366),\n",
              " ('Vietnam', '1/16/2022', 2023546.0, 35609.0, 0.017597326673077854),\n",
              " ('Vietnam', '1/16/2022', 2023546.0, 35609.0, 0.017597326673077854),\n",
              " ('Vietnam', '1/17/2021', 1537.0, 35.0, 0.02277163305139883),\n",
              " ('Vietnam', '1/17/2021', 1537.0, 35.0, 0.02277163305139883)]"
            ],
            "text/html": [
              "<table>\n",
              "    <thead>\n",
              "        <tr>\n",
              "            <th>location</th>\n",
              "            <th>date</th>\n",
              "            <th>total_cases</th>\n",
              "            <th>total_deaths</th>\n",
              "            <th>death_percentage</th>\n",
              "        </tr>\n",
              "    </thead>\n",
              "    <tbody>\n",
              "        <tr>\n",
              "            <td>Vietnam</td>\n",
              "            <td>1/1/2023</td>\n",
              "            <td>11525231.0</td>\n",
              "            <td>43186.0</td>\n",
              "            <td>0.0037470832471817703</td>\n",
              "        </tr>\n",
              "        <tr>\n",
              "            <td>Vietnam</td>\n",
              "            <td>1/1/2023</td>\n",
              "            <td>11525231.0</td>\n",
              "            <td>43186.0</td>\n",
              "            <td>0.0037470832471817703</td>\n",
              "        </tr>\n",
              "        <tr>\n",
              "            <td>Vietnam</td>\n",
              "            <td>1/10/2021</td>\n",
              "            <td>1514.0</td>\n",
              "            <td>35.0</td>\n",
              "            <td>0.023117569352708058</td>\n",
              "        </tr>\n",
              "        <tr>\n",
              "            <td>Vietnam</td>\n",
              "            <td>1/10/2021</td>\n",
              "            <td>1514.0</td>\n",
              "            <td>35.0</td>\n",
              "            <td>0.023117569352708058</td>\n",
              "        </tr>\n",
              "        <tr>\n",
              "            <td>Vietnam</td>\n",
              "            <td>1/15/2023</td>\n",
              "            <td>11526118.0</td>\n",
              "            <td>43186.0</td>\n",
              "            <td>0.0037467948879232366</td>\n",
              "        </tr>\n",
              "        <tr>\n",
              "            <td>Vietnam</td>\n",
              "            <td>1/15/2023</td>\n",
              "            <td>11526118.0</td>\n",
              "            <td>43186.0</td>\n",
              "            <td>0.0037467948879232366</td>\n",
              "        </tr>\n",
              "        <tr>\n",
              "            <td>Vietnam</td>\n",
              "            <td>1/16/2022</td>\n",
              "            <td>2023546.0</td>\n",
              "            <td>35609.0</td>\n",
              "            <td>0.017597326673077854</td>\n",
              "        </tr>\n",
              "        <tr>\n",
              "            <td>Vietnam</td>\n",
              "            <td>1/16/2022</td>\n",
              "            <td>2023546.0</td>\n",
              "            <td>35609.0</td>\n",
              "            <td>0.017597326673077854</td>\n",
              "        </tr>\n",
              "        <tr>\n",
              "            <td>Vietnam</td>\n",
              "            <td>1/17/2021</td>\n",
              "            <td>1537.0</td>\n",
              "            <td>35.0</td>\n",
              "            <td>0.02277163305139883</td>\n",
              "        </tr>\n",
              "        <tr>\n",
              "            <td>Vietnam</td>\n",
              "            <td>1/17/2021</td>\n",
              "            <td>1537.0</td>\n",
              "            <td>35.0</td>\n",
              "            <td>0.02277163305139883</td>\n",
              "        </tr>\n",
              "    </tbody>\n",
              "</table>"
            ]
          },
          "metadata": {},
          "execution_count": 65
        }
      ]
    },
    {
      "cell_type": "markdown",
      "source": [
        "**Insights on COVID-19 Data for Vietnam**\n",
        "\n",
        "1. **Total Cases and Deaths:**\n",
        "- The dataset spans from January 26, 2020, to September 6, 2023, showing a progression of the pandemic.\n",
        "- The total cases have risen from 2 cases on January 26, 2020, to 116,231,82 by September 6, 2023.\n",
        "- Total deaths increased from 35 on January 26, 2020, to 43,206 by September 6, 2023.\n",
        "\n",
        "2. **Death Percentage:**\n",
        "- The death percentage started at 1.75% on January 16, 2022, and decreased to 0.37% by September 6, 2023.\n",
        "- It had significant fluctuations over time, with notable peaks and troughs.\n",
        "- On April 17, 2022, there was a spike in the death percentage to 4.12%, indicating a period of higher mortality.\n",
        "- Generally, the death percentage has been on a decreasing trend since then, suggesting improvements in healthcare or vaccination efforts.\n",
        "\n",
        "3. **Trend Analysis:**\n",
        "- The death percentage reached its highest point in April 2022 and has been on a declining trend since then.\n",
        "- Total cases continued to rise steadily, especially in 2022, reaching over 100 million by September 6, 2023.\n",
        "- Total deaths have also increased but at a slower rate than total cases, possibly indicating improvements in treatment or healthcare capacity.\n",
        "\n",
        "The data analysis provides insights into the progression of COVID-19 in Vietnam, highlighting trends in total cases, total deaths, and the death percentage. While total cases continue to rise, the death percentage has shown a decreasing trend since a peak in April 2022. This suggests potential improvements in healthcare, treatment, or vaccination efforts. However, challenges remain, and the data underscores the ongoing impact of the pandemic on Vietnam."
      ],
      "metadata": {
        "id": "svGw4uKpLrm3"
      }
    },
    {
      "cell_type": "markdown",
      "source": [
        "## COVID vaccinations"
      ],
      "metadata": {
        "id": "QJipiUbJX8DO"
      }
    },
    {
      "cell_type": "markdown",
      "source": [
        "Let's redirect our focus to the second table, `COVID_VACCINATIONS`."
      ],
      "metadata": {
        "id": "K45Vil1pYSiV"
      }
    },
    {
      "cell_type": "code",
      "source": [
        "%%sql\n",
        "SELECT continent, location, date, total_vaccinations, new_vaccinations\n",
        "FROM COVID_VACCINATIONS\n",
        "ORDER BY location, date\n",
        "LIMIT 10"
      ],
      "metadata": {
        "colab": {
          "base_uri": "https://localhost:8080/",
          "height": 289
        },
        "id": "6dSQDDspYJk-",
        "outputId": "d793caa4-ffd5-4ada-9553-cd3913f5e352"
      },
      "execution_count": 66,
      "outputs": [
        {
          "output_type": "stream",
          "name": "stdout",
          "text": [
            " * sqlite:///covid_data.db\n",
            "Done.\n"
          ]
        },
        {
          "output_type": "execute_result",
          "data": {
            "text/plain": [
              "[('Asia', 'Afghanistan', '1/1/2021', None, None),\n",
              " ('Asia', 'Afghanistan', '1/1/2021', None, None),\n",
              " ('Asia', 'Afghanistan', '1/1/2022', None, None),\n",
              " ('Asia', 'Afghanistan', '1/1/2022', None, None),\n",
              " ('Asia', 'Afghanistan', '1/1/2023', None, None),\n",
              " ('Asia', 'Afghanistan', '1/1/2023', None, None),\n",
              " ('Asia', 'Afghanistan', '1/1/2024', None, None),\n",
              " ('Asia', 'Afghanistan', '1/1/2024', None, None),\n",
              " ('Asia', 'Afghanistan', '1/10/2020', None, None),\n",
              " ('Asia', 'Afghanistan', '1/10/2020', None, None)]"
            ],
            "text/html": [
              "<table>\n",
              "    <thead>\n",
              "        <tr>\n",
              "            <th>continent</th>\n",
              "            <th>location</th>\n",
              "            <th>date</th>\n",
              "            <th>total_vaccinations</th>\n",
              "            <th>new_vaccinations</th>\n",
              "        </tr>\n",
              "    </thead>\n",
              "    <tbody>\n",
              "        <tr>\n",
              "            <td>Asia</td>\n",
              "            <td>Afghanistan</td>\n",
              "            <td>1/1/2021</td>\n",
              "            <td>None</td>\n",
              "            <td>None</td>\n",
              "        </tr>\n",
              "        <tr>\n",
              "            <td>Asia</td>\n",
              "            <td>Afghanistan</td>\n",
              "            <td>1/1/2021</td>\n",
              "            <td>None</td>\n",
              "            <td>None</td>\n",
              "        </tr>\n",
              "        <tr>\n",
              "            <td>Asia</td>\n",
              "            <td>Afghanistan</td>\n",
              "            <td>1/1/2022</td>\n",
              "            <td>None</td>\n",
              "            <td>None</td>\n",
              "        </tr>\n",
              "        <tr>\n",
              "            <td>Asia</td>\n",
              "            <td>Afghanistan</td>\n",
              "            <td>1/1/2022</td>\n",
              "            <td>None</td>\n",
              "            <td>None</td>\n",
              "        </tr>\n",
              "        <tr>\n",
              "            <td>Asia</td>\n",
              "            <td>Afghanistan</td>\n",
              "            <td>1/1/2023</td>\n",
              "            <td>None</td>\n",
              "            <td>None</td>\n",
              "        </tr>\n",
              "        <tr>\n",
              "            <td>Asia</td>\n",
              "            <td>Afghanistan</td>\n",
              "            <td>1/1/2023</td>\n",
              "            <td>None</td>\n",
              "            <td>None</td>\n",
              "        </tr>\n",
              "        <tr>\n",
              "            <td>Asia</td>\n",
              "            <td>Afghanistan</td>\n",
              "            <td>1/1/2024</td>\n",
              "            <td>None</td>\n",
              "            <td>None</td>\n",
              "        </tr>\n",
              "        <tr>\n",
              "            <td>Asia</td>\n",
              "            <td>Afghanistan</td>\n",
              "            <td>1/1/2024</td>\n",
              "            <td>None</td>\n",
              "            <td>None</td>\n",
              "        </tr>\n",
              "        <tr>\n",
              "            <td>Asia</td>\n",
              "            <td>Afghanistan</td>\n",
              "            <td>1/10/2020</td>\n",
              "            <td>None</td>\n",
              "            <td>None</td>\n",
              "        </tr>\n",
              "        <tr>\n",
              "            <td>Asia</td>\n",
              "            <td>Afghanistan</td>\n",
              "            <td>1/10/2020</td>\n",
              "            <td>None</td>\n",
              "            <td>None</td>\n",
              "        </tr>\n",
              "    </tbody>\n",
              "</table>"
            ]
          },
          "metadata": {},
          "execution_count": 66
        }
      ]
    },
    {
      "cell_type": "markdown",
      "source": [
        "We've identified an issue with the data column, much like the `COVID_DEATHS` dataset. To address this, we'll preprocess it as we did earlier with the `COVID_DEATHS` dataset and then save it in a temporary table named `COVID_VACCINATIONS_PROCESSED`."
      ],
      "metadata": {
        "id": "aPmsPNt8Youb"
      }
    },
    {
      "cell_type": "code",
      "source": [
        "%%sql\n",
        "DROP TABLE IF EXISTS COVID_VACCINATIONS_PROCESSED;\n",
        "\n",
        "CREATE TABLE COVID_VACCINATIONS_PROCESSED\n",
        "(\n",
        "    continent TEXT,\n",
        "    location TEXT,\n",
        "    date DATE,\n",
        "    total_vaccinations REAL,\n",
        "    new_vaccinations REAL\n",
        ");\n",
        "\n",
        "INSERT INTO COVID_VACCINATIONS_PROCESSED\n",
        "WITH date_split AS (\n",
        "    SELECT\n",
        "      continent,\n",
        "      location,\n",
        "      SUBSTR(date, 1, INSTR(date, '/') - 1) AS month,\n",
        "      SUBSTR(SUBSTR(date, INSTR(date, '/') + 1), 1, INSTR(SUBSTR(date, INSTR(date, '/') + 1), '/') - 1) AS date,\n",
        "      SUBSTR(SUBSTR(date, INSTR(date, '/') + 1), INSTR(SUBSTR(date, INSTR(date, '/') + 1), '/') + 1) AS year,\n",
        "      total_vaccinations,\n",
        "      new_vaccinations\n",
        "    FROM COVID_VACCINATIONS\n",
        "),\n",
        "date_normalize AS (\n",
        "    SELECT\n",
        "      continent,\n",
        "      location,\n",
        "      year,\n",
        "      CASE WHEN LENGTH(month) == 1 THEN '0' || month ELSE month END AS month,\n",
        "      CASE WHEN LENGTH(date) == 1 THEN '0' || date ELSE date END AS date,\n",
        "      total_vaccinations,\n",
        "      new_vaccinations\n",
        "    FROM date_split\n",
        ")\n",
        "\n",
        "SELECT\n",
        "    continent,\n",
        "    location,\n",
        "    DATE(year || '-' || month || '-' || date) AS date,\n",
        "    total_vaccinations,\n",
        "    new_vaccinations\n",
        "FROM date_normalize\n",
        "ORDER BY location, date"
      ],
      "metadata": {
        "colab": {
          "base_uri": "https://localhost:8080/"
        },
        "id": "oRPD8c2oYvdN",
        "outputId": "4de22d4b-6e87-4c1f-ff1d-c148c6d2a059"
      },
      "execution_count": 67,
      "outputs": [
        {
          "output_type": "stream",
          "name": "stdout",
          "text": [
            " * sqlite:///covid_data.db\n",
            "Done.\n",
            "Done.\n",
            "781572 rows affected.\n"
          ]
        },
        {
          "output_type": "execute_result",
          "data": {
            "text/plain": [
              "[]"
            ]
          },
          "metadata": {},
          "execution_count": 67
        }
      ]
    },
    {
      "cell_type": "markdown",
      "source": [
        "Let's take a look at our new table."
      ],
      "metadata": {
        "id": "cp6EIT3qaMGB"
      }
    },
    {
      "cell_type": "code",
      "source": [
        "%%sql\n",
        "SELECT *\n",
        "FROM COVID_VACCINATIONS_PROCESSED\n",
        "LIMIT 10"
      ],
      "metadata": {
        "colab": {
          "base_uri": "https://localhost:8080/",
          "height": 289
        },
        "id": "LtojkmppaMv6",
        "outputId": "ea1c7621-b3f2-43be-cb4c-c61c2743639b"
      },
      "execution_count": 68,
      "outputs": [
        {
          "output_type": "stream",
          "name": "stdout",
          "text": [
            " * sqlite:///covid_data.db\n",
            "Done.\n"
          ]
        },
        {
          "output_type": "execute_result",
          "data": {
            "text/plain": [
              "[('Asia', 'Afghanistan', '2020-01-05', None, None),\n",
              " ('Asia', 'Afghanistan', '2020-01-05', None, None),\n",
              " ('Asia', 'Afghanistan', '2020-01-06', None, None),\n",
              " ('Asia', 'Afghanistan', '2020-01-06', None, None),\n",
              " ('Asia', 'Afghanistan', '2020-01-07', None, None),\n",
              " ('Asia', 'Afghanistan', '2020-01-07', None, None),\n",
              " ('Asia', 'Afghanistan', '2020-01-08', None, None),\n",
              " ('Asia', 'Afghanistan', '2020-01-08', None, None),\n",
              " ('Asia', 'Afghanistan', '2020-01-09', None, None),\n",
              " ('Asia', 'Afghanistan', '2020-01-09', None, None)]"
            ],
            "text/html": [
              "<table>\n",
              "    <thead>\n",
              "        <tr>\n",
              "            <th>continent</th>\n",
              "            <th>location</th>\n",
              "            <th>date</th>\n",
              "            <th>total_vaccinations</th>\n",
              "            <th>new_vaccinations</th>\n",
              "        </tr>\n",
              "    </thead>\n",
              "    <tbody>\n",
              "        <tr>\n",
              "            <td>Asia</td>\n",
              "            <td>Afghanistan</td>\n",
              "            <td>2020-01-05</td>\n",
              "            <td>None</td>\n",
              "            <td>None</td>\n",
              "        </tr>\n",
              "        <tr>\n",
              "            <td>Asia</td>\n",
              "            <td>Afghanistan</td>\n",
              "            <td>2020-01-05</td>\n",
              "            <td>None</td>\n",
              "            <td>None</td>\n",
              "        </tr>\n",
              "        <tr>\n",
              "            <td>Asia</td>\n",
              "            <td>Afghanistan</td>\n",
              "            <td>2020-01-06</td>\n",
              "            <td>None</td>\n",
              "            <td>None</td>\n",
              "        </tr>\n",
              "        <tr>\n",
              "            <td>Asia</td>\n",
              "            <td>Afghanistan</td>\n",
              "            <td>2020-01-06</td>\n",
              "            <td>None</td>\n",
              "            <td>None</td>\n",
              "        </tr>\n",
              "        <tr>\n",
              "            <td>Asia</td>\n",
              "            <td>Afghanistan</td>\n",
              "            <td>2020-01-07</td>\n",
              "            <td>None</td>\n",
              "            <td>None</td>\n",
              "        </tr>\n",
              "        <tr>\n",
              "            <td>Asia</td>\n",
              "            <td>Afghanistan</td>\n",
              "            <td>2020-01-07</td>\n",
              "            <td>None</td>\n",
              "            <td>None</td>\n",
              "        </tr>\n",
              "        <tr>\n",
              "            <td>Asia</td>\n",
              "            <td>Afghanistan</td>\n",
              "            <td>2020-01-08</td>\n",
              "            <td>None</td>\n",
              "            <td>None</td>\n",
              "        </tr>\n",
              "        <tr>\n",
              "            <td>Asia</td>\n",
              "            <td>Afghanistan</td>\n",
              "            <td>2020-01-08</td>\n",
              "            <td>None</td>\n",
              "            <td>None</td>\n",
              "        </tr>\n",
              "        <tr>\n",
              "            <td>Asia</td>\n",
              "            <td>Afghanistan</td>\n",
              "            <td>2020-01-09</td>\n",
              "            <td>None</td>\n",
              "            <td>None</td>\n",
              "        </tr>\n",
              "        <tr>\n",
              "            <td>Asia</td>\n",
              "            <td>Afghanistan</td>\n",
              "            <td>2020-01-09</td>\n",
              "            <td>None</td>\n",
              "            <td>None</td>\n",
              "        </tr>\n",
              "    </tbody>\n",
              "</table>"
            ]
          },
          "metadata": {},
          "execution_count": 68
        }
      ]
    },
    {
      "cell_type": "markdown",
      "source": [
        "We've identified another issue with our table: the `total_vaccinations` column has data in only a few rows, while most entries are empty. This could lead to a disjointed line chart if we aim to display total vaccinations on our dashboard. Additionally, the `new_vaccinations` column has many null values, which is unexpected given the increase in `total_vaccinations`.\n",
        "\n",
        "To address these issues, we'll take the following steps:\n",
        "- For every null value in the `total_vaccinations` column, we will replace it with the nearest non-null value of `total_vaccinations` for that country.\n",
        "- We will then calculate the `new_vaccinations` by subtracting two consecutive `total_vaccinations` values.\n",
        "\n",
        "Finally, we will save the processed data in a new temporary table called `COVID_VACCINATIONS_PROCESSED_V2`."
      ],
      "metadata": {
        "id": "mmpusbVzaWih"
      }
    },
    {
      "cell_type": "code",
      "source": [
        "%%sql\n",
        "DROP TABLE IF EXISTS COVID_VACCINATIONS_PROCESSED_V2;\n",
        "\n",
        "CREATE TABLE COVID_VACCINATIONS_PROCESSED_V2\n",
        "(\n",
        "    continent TEXT,\n",
        "    location TEXT,\n",
        "    date DATE,\n",
        "    total_vaccinations REAL,\n",
        "    new_vaccinations REAL\n",
        ");\n",
        "\n",
        "INSERT INTO COVID_VACCINATIONS_PROCESSED_V2\n",
        "WITH total_vaccinations_portion AS (\n",
        "    SELECT\n",
        "        continent,\n",
        "        location,\n",
        "        date,\n",
        "        total_vaccinations,\n",
        "        SUM(CASE WHEN total_vaccinations IS NULL THEN 0 ELSE 1 END) OVER (PARTITION BY continent, location ORDER BY date) AS total_vaccinations_partition,\n",
        "        new_vaccinations\n",
        "    FROM COVID_VACCINATIONS_PROCESSED\n",
        "),\n",
        "new_total_vaccinations AS (\n",
        "    SELECT\n",
        "        continent,\n",
        "        location,\n",
        "        date,\n",
        "        FIRST_VALUE(total_vaccinations) OVER(PARTITION BY total_vaccinations_partition, continent, location) AS total_vaccinations,\n",
        "        new_vaccinations\n",
        "    FROM total_vaccinations_portion\n",
        ")\n",
        "\n",
        "SELECT\n",
        "    continent,\n",
        "    location,\n",
        "    date,\n",
        "    total_vaccinations,\n",
        "    total_vaccinations - LAG(total_vaccinations) OVER(PARTITION BY continent, location ORDER BY date) AS new_vaccinations\n",
        "FROM new_total_vaccinations\n",
        "ORDER BY location, date"
      ],
      "metadata": {
        "colab": {
          "base_uri": "https://localhost:8080/"
        },
        "id": "yq67eywTcIbQ",
        "outputId": "cf996a1d-c5b7-4a0a-d14f-786483e5caca"
      },
      "execution_count": 69,
      "outputs": [
        {
          "output_type": "stream",
          "name": "stdout",
          "text": [
            " * sqlite:///covid_data.db\n",
            "Done.\n",
            "Done.\n",
            "781572 rows affected.\n"
          ]
        },
        {
          "output_type": "execute_result",
          "data": {
            "text/plain": [
              "[]"
            ]
          },
          "metadata": {},
          "execution_count": 69
        }
      ]
    },
    {
      "cell_type": "markdown",
      "source": [
        "Let's once more review our processed table."
      ],
      "metadata": {
        "id": "PGDFEXWFhQru"
      }
    },
    {
      "cell_type": "code",
      "source": [
        "%%sql\n",
        "SELECT *\n",
        "FROM COVID_VACCINATIONS_PROCESSED_V2\n",
        "LIMIT 10"
      ],
      "metadata": {
        "colab": {
          "base_uri": "https://localhost:8080/",
          "height": 289
        },
        "id": "uCd9BhMHhVXr",
        "outputId": "089c6e7a-b1c0-4014-c2ef-68e4abbee528"
      },
      "execution_count": 70,
      "outputs": [
        {
          "output_type": "stream",
          "name": "stdout",
          "text": [
            " * sqlite:///covid_data.db\n",
            "Done.\n"
          ]
        },
        {
          "output_type": "execute_result",
          "data": {
            "text/plain": [
              "[('Asia', 'Afghanistan', '2020-01-05', None, None),\n",
              " ('Asia', 'Afghanistan', '2020-01-05', None, None),\n",
              " ('Asia', 'Afghanistan', '2020-01-06', None, None),\n",
              " ('Asia', 'Afghanistan', '2020-01-06', None, None),\n",
              " ('Asia', 'Afghanistan', '2020-01-07', None, None),\n",
              " ('Asia', 'Afghanistan', '2020-01-07', None, None),\n",
              " ('Asia', 'Afghanistan', '2020-01-08', None, None),\n",
              " ('Asia', 'Afghanistan', '2020-01-08', None, None),\n",
              " ('Asia', 'Afghanistan', '2020-01-09', None, None),\n",
              " ('Asia', 'Afghanistan', '2020-01-09', None, None)]"
            ],
            "text/html": [
              "<table>\n",
              "    <thead>\n",
              "        <tr>\n",
              "            <th>continent</th>\n",
              "            <th>location</th>\n",
              "            <th>date</th>\n",
              "            <th>total_vaccinations</th>\n",
              "            <th>new_vaccinations</th>\n",
              "        </tr>\n",
              "    </thead>\n",
              "    <tbody>\n",
              "        <tr>\n",
              "            <td>Asia</td>\n",
              "            <td>Afghanistan</td>\n",
              "            <td>2020-01-05</td>\n",
              "            <td>None</td>\n",
              "            <td>None</td>\n",
              "        </tr>\n",
              "        <tr>\n",
              "            <td>Asia</td>\n",
              "            <td>Afghanistan</td>\n",
              "            <td>2020-01-05</td>\n",
              "            <td>None</td>\n",
              "            <td>None</td>\n",
              "        </tr>\n",
              "        <tr>\n",
              "            <td>Asia</td>\n",
              "            <td>Afghanistan</td>\n",
              "            <td>2020-01-06</td>\n",
              "            <td>None</td>\n",
              "            <td>None</td>\n",
              "        </tr>\n",
              "        <tr>\n",
              "            <td>Asia</td>\n",
              "            <td>Afghanistan</td>\n",
              "            <td>2020-01-06</td>\n",
              "            <td>None</td>\n",
              "            <td>None</td>\n",
              "        </tr>\n",
              "        <tr>\n",
              "            <td>Asia</td>\n",
              "            <td>Afghanistan</td>\n",
              "            <td>2020-01-07</td>\n",
              "            <td>None</td>\n",
              "            <td>None</td>\n",
              "        </tr>\n",
              "        <tr>\n",
              "            <td>Asia</td>\n",
              "            <td>Afghanistan</td>\n",
              "            <td>2020-01-07</td>\n",
              "            <td>None</td>\n",
              "            <td>None</td>\n",
              "        </tr>\n",
              "        <tr>\n",
              "            <td>Asia</td>\n",
              "            <td>Afghanistan</td>\n",
              "            <td>2020-01-08</td>\n",
              "            <td>None</td>\n",
              "            <td>None</td>\n",
              "        </tr>\n",
              "        <tr>\n",
              "            <td>Asia</td>\n",
              "            <td>Afghanistan</td>\n",
              "            <td>2020-01-08</td>\n",
              "            <td>None</td>\n",
              "            <td>None</td>\n",
              "        </tr>\n",
              "        <tr>\n",
              "            <td>Asia</td>\n",
              "            <td>Afghanistan</td>\n",
              "            <td>2020-01-09</td>\n",
              "            <td>None</td>\n",
              "            <td>None</td>\n",
              "        </tr>\n",
              "        <tr>\n",
              "            <td>Asia</td>\n",
              "            <td>Afghanistan</td>\n",
              "            <td>2020-01-09</td>\n",
              "            <td>None</td>\n",
              "            <td>None</td>\n",
              "        </tr>\n",
              "    </tbody>\n",
              "</table>"
            ]
          },
          "metadata": {},
          "execution_count": 70
        }
      ]
    },
    {
      "cell_type": "markdown",
      "source": [
        "Everything looks good. Let's delve into our analysis."
      ],
      "metadata": {
        "id": "DpOGxAEHhij1"
      }
    },
    {
      "cell_type": "markdown",
      "source": [
        "### Insights for Vietnam"
      ],
      "metadata": {
        "id": "iY7cciQFtipf"
      }
    },
    {
      "cell_type": "code",
      "source": [
        "# Let's look at the total population vs vaccinations\n",
        "%%sql\n",
        "SELECT\n",
        "  dea.continent,\n",
        "  dea.location,\n",
        "  dea.date,\n",
        "  dea.population,\n",
        "  vac.total_vaccinations,\n",
        "  vac.total_vaccinations / dea.population AS vaccin_percentage\n",
        "FROM COVID_DEATHS_PROCESSED dea\n",
        "JOIN COVID_VACCINATIONS_PROCESSED_V2 vac\n",
        "  USING (location, date)\n",
        "WHERE dea.continent IS NOT NULL\n",
        "  AND dea.location == 'Vietnam'\n",
        "  AND vac.new_vaccinations != 0\n",
        "ORDER BY 1, 2, 3\n",
        "LIMIT 10"
      ],
      "metadata": {
        "colab": {
          "base_uri": "https://localhost:8080/",
          "height": 289
        },
        "id": "16go6kfqvcKo",
        "outputId": "3f261692-3146-413b-946a-9ee543c9a919"
      },
      "execution_count": 71,
      "outputs": [
        {
          "output_type": "stream",
          "name": "stdout",
          "text": [
            " * sqlite:///covid_data.db\n",
            "Done.\n"
          ]
        },
        {
          "output_type": "execute_result",
          "data": {
            "text/plain": [
              "[('Asia', 'Vietnam', '2021-03-08', 98186856.0, 377.0, 3.839617799759267e-06),\n",
              " ('Asia', 'Vietnam', '2021-03-08', 98186856.0, 377.0, 3.839617799759267e-06),\n",
              " ('Asia', 'Vietnam', '2021-03-09', 98186856.0, 522.0, 5.316393876589754e-06),\n",
              " ('Asia', 'Vietnam', '2021-03-09', 98186856.0, 522.0, 5.316393876589754e-06),\n",
              " ('Asia', 'Vietnam', '2021-03-10', 98186856.0, 955.0, 9.726352781883555e-06),\n",
              " ('Asia', 'Vietnam', '2021-03-10', 98186856.0, 955.0, 9.726352781883555e-06),\n",
              " ('Asia', 'Vietnam', '2021-03-11', 98186856.0, 1585.0, 1.614269021914705e-05),\n",
              " ('Asia', 'Vietnam', '2021-03-11', 98186856.0, 1585.0, 1.614269021914705e-05),\n",
              " ('Asia', 'Vietnam', '2021-03-12', 98186856.0, 5248.0, 5.3449109318664814e-05),\n",
              " ('Asia', 'Vietnam', '2021-03-12', 98186856.0, 5248.0, 5.3449109318664814e-05)]"
            ],
            "text/html": [
              "<table>\n",
              "    <thead>\n",
              "        <tr>\n",
              "            <th>continent</th>\n",
              "            <th>location</th>\n",
              "            <th>date</th>\n",
              "            <th>population</th>\n",
              "            <th>total_vaccinations</th>\n",
              "            <th>vaccin_percentage</th>\n",
              "        </tr>\n",
              "    </thead>\n",
              "    <tbody>\n",
              "        <tr>\n",
              "            <td>Asia</td>\n",
              "            <td>Vietnam</td>\n",
              "            <td>2021-03-08</td>\n",
              "            <td>98186856.0</td>\n",
              "            <td>377.0</td>\n",
              "            <td>3.839617799759267e-06</td>\n",
              "        </tr>\n",
              "        <tr>\n",
              "            <td>Asia</td>\n",
              "            <td>Vietnam</td>\n",
              "            <td>2021-03-08</td>\n",
              "            <td>98186856.0</td>\n",
              "            <td>377.0</td>\n",
              "            <td>3.839617799759267e-06</td>\n",
              "        </tr>\n",
              "        <tr>\n",
              "            <td>Asia</td>\n",
              "            <td>Vietnam</td>\n",
              "            <td>2021-03-09</td>\n",
              "            <td>98186856.0</td>\n",
              "            <td>522.0</td>\n",
              "            <td>5.316393876589754e-06</td>\n",
              "        </tr>\n",
              "        <tr>\n",
              "            <td>Asia</td>\n",
              "            <td>Vietnam</td>\n",
              "            <td>2021-03-09</td>\n",
              "            <td>98186856.0</td>\n",
              "            <td>522.0</td>\n",
              "            <td>5.316393876589754e-06</td>\n",
              "        </tr>\n",
              "        <tr>\n",
              "            <td>Asia</td>\n",
              "            <td>Vietnam</td>\n",
              "            <td>2021-03-10</td>\n",
              "            <td>98186856.0</td>\n",
              "            <td>955.0</td>\n",
              "            <td>9.726352781883555e-06</td>\n",
              "        </tr>\n",
              "        <tr>\n",
              "            <td>Asia</td>\n",
              "            <td>Vietnam</td>\n",
              "            <td>2021-03-10</td>\n",
              "            <td>98186856.0</td>\n",
              "            <td>955.0</td>\n",
              "            <td>9.726352781883555e-06</td>\n",
              "        </tr>\n",
              "        <tr>\n",
              "            <td>Asia</td>\n",
              "            <td>Vietnam</td>\n",
              "            <td>2021-03-11</td>\n",
              "            <td>98186856.0</td>\n",
              "            <td>1585.0</td>\n",
              "            <td>1.614269021914705e-05</td>\n",
              "        </tr>\n",
              "        <tr>\n",
              "            <td>Asia</td>\n",
              "            <td>Vietnam</td>\n",
              "            <td>2021-03-11</td>\n",
              "            <td>98186856.0</td>\n",
              "            <td>1585.0</td>\n",
              "            <td>1.614269021914705e-05</td>\n",
              "        </tr>\n",
              "        <tr>\n",
              "            <td>Asia</td>\n",
              "            <td>Vietnam</td>\n",
              "            <td>2021-03-12</td>\n",
              "            <td>98186856.0</td>\n",
              "            <td>5248.0</td>\n",
              "            <td>5.3449109318664814e-05</td>\n",
              "        </tr>\n",
              "        <tr>\n",
              "            <td>Asia</td>\n",
              "            <td>Vietnam</td>\n",
              "            <td>2021-03-12</td>\n",
              "            <td>98186856.0</td>\n",
              "            <td>5248.0</td>\n",
              "            <td>5.3449109318664814e-05</td>\n",
              "        </tr>\n",
              "    </tbody>\n",
              "</table>"
            ]
          },
          "metadata": {},
          "execution_count": 71
        }
      ]
    },
    {
      "cell_type": "markdown",
      "source": [
        "Here are some insights from the provided data on Vietnam's COVID-19 vaccination progress:\n",
        "\n",
        "**General Trends**\n",
        "\n",
        "**Initial Phase (March 2021 - May 2021):**\n",
        "   - Vaccination efforts started very slowly in March 2021 with only a few hundred vaccinations per day.\n",
        "   - By the end of May 2021, the total vaccinations had increased significantly but still remained below 1% of the population.\n",
        "\n",
        "**Rapid Increase (June 2021 - December 2021):**\n",
        "   - There was a sharp increase in vaccination rates from June 2021 onwards.\n",
        "   - By the end of 2021, a substantial portion of the population had received vaccinations, crossing significant milestones regularly.\n",
        "\n",
        "**Steady Growth (2022):**\n",
        "   - The pace of vaccinations continued steadily throughout 2022.\n",
        "   - By the end of 2022, a significant portion of the population had been vaccinated, with percentages reaching close to half of the population.\n",
        "\n",
        "**Final Phase (January 2023 - June 2023):**\n",
        "   - The rate of vaccinations continued to increase but at a slower rate compared to the initial rapid phase.\n",
        "   - By June 30, 2023, a large majority of the population had received vaccinations, indicating a successful widespread vaccination campaign.\n",
        "\n",
        "**Conclusion**\n",
        "\n",
        "Vietnam's vaccination campaign showed a slow start but gained momentum in mid-2021, achieving significant coverage by the end of 2022 and continuing to expand in 2023. The data highlights the importance of sustained vaccination efforts to achieve widespread immunity within the population."
      ],
      "metadata": {
        "id": "yLJD1LzcvoGl"
      }
    },
    {
      "cell_type": "markdown",
      "source": [
        "Lastly, we will create a view that combines the information from the `COVID_DEATHS` and `COVID_VACCINATIONS` tables for further visualization. Let's call it `PERCENT_POPULATION_VACCINATED_VIEW`"
      ],
      "metadata": {
        "id": "yBozow4jxbOR"
      }
    },
    {
      "cell_type": "code",
      "source": [
        "# Let's create a view to save data for later visualization\n",
        "%%sql\n",
        "DROP VIEW IF EXISTS PERCENT_POPULATION_VACCINATED_VIEW;\n",
        "\n",
        "CREATE VIEW PERCENT_POPULATION_VACCINATED_VIEW\n",
        "AS\n",
        "SELECT\n",
        "  dea.continent,\n",
        "  dea.location,\n",
        "  dea.date,\n",
        "  dea.population,\n",
        "  vac.total_vaccinations,\n",
        "  vac.total_vaccinations / dea.population AS vaccin_percentage\n",
        "FROM COVID_DEATHS_PROCESSED dea\n",
        "JOIN COVID_VACCINATIONS_PROCESSED_V2 vac\n",
        "  USING (location, date)\n",
        "ORDER BY 1, 2, 3"
      ],
      "metadata": {
        "colab": {
          "base_uri": "https://localhost:8080/"
        },
        "id": "t_kumEIS02KG",
        "outputId": "72d97bd4-4652-4b9d-f05c-95d2364e444c"
      },
      "execution_count": 72,
      "outputs": [
        {
          "output_type": "stream",
          "name": "stdout",
          "text": [
            " * sqlite:///covid_data.db\n",
            "Done.\n",
            "Done.\n"
          ]
        },
        {
          "output_type": "execute_result",
          "data": {
            "text/plain": [
              "[]"
            ]
          },
          "metadata": {},
          "execution_count": 72
        }
      ]
    },
    {
      "cell_type": "code",
      "source": [
        "# So now we can select from the view\n",
        "%%sql\n",
        "SELECT *\n",
        "FROM PERCENT_POPULATION_VACCINATED_VIEW\n",
        "LIMIT 10"
      ],
      "metadata": {
        "colab": {
          "base_uri": "https://localhost:8080/",
          "height": 289
        },
        "id": "hjQ3tkbC1fo9",
        "outputId": "e20344cc-25d3-40d5-b481-ad299d896c35"
      },
      "execution_count": 73,
      "outputs": [
        {
          "output_type": "stream",
          "name": "stdout",
          "text": [
            " * sqlite:///covid_data.db\n",
            "Done.\n"
          ]
        },
        {
          "output_type": "execute_result",
          "data": {
            "text/plain": [
              "[(None, 'Africa', '2020-01-05', 1426736614.0, None, None),\n",
              " (None, 'Africa', '2020-01-05', 1426736614.0, None, None),\n",
              " (None, 'Africa', '2020-01-05', 1426736614.0, None, None),\n",
              " (None, 'Africa', '2020-01-05', 1426736614.0, None, None),\n",
              " (None, 'Africa', '2020-01-06', 1426736614.0, None, None),\n",
              " (None, 'Africa', '2020-01-06', 1426736614.0, None, None),\n",
              " (None, 'Africa', '2020-01-06', 1426736614.0, None, None),\n",
              " (None, 'Africa', '2020-01-06', 1426736614.0, None, None),\n",
              " (None, 'Africa', '2020-01-07', 1426736614.0, None, None),\n",
              " (None, 'Africa', '2020-01-07', 1426736614.0, None, None)]"
            ],
            "text/html": [
              "<table>\n",
              "    <thead>\n",
              "        <tr>\n",
              "            <th>continent</th>\n",
              "            <th>location</th>\n",
              "            <th>date</th>\n",
              "            <th>population</th>\n",
              "            <th>total_vaccinations</th>\n",
              "            <th>vaccin_percentage</th>\n",
              "        </tr>\n",
              "    </thead>\n",
              "    <tbody>\n",
              "        <tr>\n",
              "            <td>None</td>\n",
              "            <td>Africa</td>\n",
              "            <td>2020-01-05</td>\n",
              "            <td>1426736614.0</td>\n",
              "            <td>None</td>\n",
              "            <td>None</td>\n",
              "        </tr>\n",
              "        <tr>\n",
              "            <td>None</td>\n",
              "            <td>Africa</td>\n",
              "            <td>2020-01-05</td>\n",
              "            <td>1426736614.0</td>\n",
              "            <td>None</td>\n",
              "            <td>None</td>\n",
              "        </tr>\n",
              "        <tr>\n",
              "            <td>None</td>\n",
              "            <td>Africa</td>\n",
              "            <td>2020-01-05</td>\n",
              "            <td>1426736614.0</td>\n",
              "            <td>None</td>\n",
              "            <td>None</td>\n",
              "        </tr>\n",
              "        <tr>\n",
              "            <td>None</td>\n",
              "            <td>Africa</td>\n",
              "            <td>2020-01-05</td>\n",
              "            <td>1426736614.0</td>\n",
              "            <td>None</td>\n",
              "            <td>None</td>\n",
              "        </tr>\n",
              "        <tr>\n",
              "            <td>None</td>\n",
              "            <td>Africa</td>\n",
              "            <td>2020-01-06</td>\n",
              "            <td>1426736614.0</td>\n",
              "            <td>None</td>\n",
              "            <td>None</td>\n",
              "        </tr>\n",
              "        <tr>\n",
              "            <td>None</td>\n",
              "            <td>Africa</td>\n",
              "            <td>2020-01-06</td>\n",
              "            <td>1426736614.0</td>\n",
              "            <td>None</td>\n",
              "            <td>None</td>\n",
              "        </tr>\n",
              "        <tr>\n",
              "            <td>None</td>\n",
              "            <td>Africa</td>\n",
              "            <td>2020-01-06</td>\n",
              "            <td>1426736614.0</td>\n",
              "            <td>None</td>\n",
              "            <td>None</td>\n",
              "        </tr>\n",
              "        <tr>\n",
              "            <td>None</td>\n",
              "            <td>Africa</td>\n",
              "            <td>2020-01-06</td>\n",
              "            <td>1426736614.0</td>\n",
              "            <td>None</td>\n",
              "            <td>None</td>\n",
              "        </tr>\n",
              "        <tr>\n",
              "            <td>None</td>\n",
              "            <td>Africa</td>\n",
              "            <td>2020-01-07</td>\n",
              "            <td>1426736614.0</td>\n",
              "            <td>None</td>\n",
              "            <td>None</td>\n",
              "        </tr>\n",
              "        <tr>\n",
              "            <td>None</td>\n",
              "            <td>Africa</td>\n",
              "            <td>2020-01-07</td>\n",
              "            <td>1426736614.0</td>\n",
              "            <td>None</td>\n",
              "            <td>None</td>\n",
              "        </tr>\n",
              "    </tbody>\n",
              "</table>"
            ]
          },
          "metadata": {},
          "execution_count": 73
        }
      ]
    },
    {
      "cell_type": "markdown",
      "source": [
        "# Conclusion\n",
        "\n",
        "This project delved into the COVID-19 dataset using advanced SQL techniques, revealing key insights into global trends, regional disparities, and vaccination progress. Through thorough analysis, it underscored the importance of data-driven decision-making in public health crises like COVID-19."
      ],
      "metadata": {
        "id": "xUgllJ6v0yFk"
      }
    },
    {
      "cell_type": "markdown",
      "source": [
        "## Key Learnings\n",
        "\n",
        "1. **SQL Proficiency**: Enhanced skills in advanced SQL techniques for handling complex datasets.\n",
        "   \n",
        "2. **Data Quality**: Addressed data quality issues for accurate analysis.\n",
        "\n",
        "3. **Global Trends**: Identified significant global trends and disparities in COVID-19 cases, deaths, and vaccination rates.\n",
        "\n",
        "4. **Regional Disparities**: Highlighted variations in the impact of COVID-19 across continents and income levels.\n",
        "\n",
        "5. **Vaccination Progress**: Tracked the progress and challenges of global vaccination efforts.\n",
        "\n",
        "6. **Visualization**: Emphasized the importance of data visualization for conveying insights effectively."
      ],
      "metadata": {
        "id": "78ZcWGal039-"
      }
    },
    {
      "cell_type": "markdown",
      "source": [
        "## Future Considerations\n",
        "\n",
        "1. **Detailed Country Analysis**: Explore individual country factors influencing COVID-19 outcomes.\n",
        "\n",
        "2. **Temporal Analysis**: Investigate the effectiveness of interventions over time.\n",
        "\n",
        "3. **External Factors**: Integrate additional datasets to understand broader influences on COVID-19 trends.\n",
        "\n",
        "4. **Predictive Modeling**: Use machine learning for forecasting future trends.\n",
        "\n",
        "5. **Variant Impact**: Analyze the impact of COVID-19 variants on cases, deaths, and vaccine effectiveness.\n",
        "\n",
        "6. **Long-term Effects**: Study the lasting health and economic impacts of COVID-19 for recovery and preparedness efforts.\n",
        "\n",
        "This project lays the groundwork for ongoing analysis and decision-making in addressing the COVID-19 pandemic, emphasizing the value of data insights in public health responses."
      ],
      "metadata": {
        "id": "UsmHyvB706f-"
      }
    },
    {
      "cell_type": "code",
      "source": [],
      "metadata": {
        "id": "jlZ7zjnqzY3C"
      },
      "execution_count": 73,
      "outputs": []
    }
  ]
}